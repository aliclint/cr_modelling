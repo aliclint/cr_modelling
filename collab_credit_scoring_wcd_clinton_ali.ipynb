{
  "cells": [
    {
      "cell_type": "markdown",
      "metadata": {
        "id": "puzhcjGmFNuV"
      },
      "source": [
        "<div  align='center'><img src='https://s3.amazonaws.com/weclouddata/images/logos/wcd_logo_new_2.png' width='15%'></div >\n",
        "\n",
        "<p style=\"font-size:30px;text-align:center\"><b>ML End-to-End Modeling Exercise</b></p>\n",
        "<p style=\"font-size:20px;text-align:center\"><b><font color='#F39A54'>(Student)</font></b></p>\n",
        "<p style=\"font-size:20px;text-align:center\"><b>ML Engineer Bootcamp</b></p>\n",
        "\n",
        "<br>\n",
        "<center align=\"center\"> Designed by: </center>\n",
        "<center align=\"center\"> WeCloudData Academy </center>"
      ]
    },
    {
      "cell_type": "markdown",
      "metadata": {
        "id": "sAkbgV1wFNuW"
      },
      "source": [
        "## Table of Content <a name='toc'></a>\n",
        "* ### [Challenge: ML with Scikit-learn](#sklearn)\n",
        "    * [1 - Data Preparation](#sklearn-data-prep)\n",
        "    * [2 - Sampling and Data Split](#sklearn-split)\n",
        "    * [3 - Data Exploration](#sklearn-explore)\n",
        "    * [4 - Feature Prerprocessing](#sklearn-feature)\n",
        "    * [5 - Feature Selection](#sklearn-feature-selection)\n",
        "    * [6 - Model Fitting](#sklearn-fit)\n",
        "    * [7 - Model Evaluation](#sklearn-eval)\n",
        "    * [8 - Hyper-parameter Tuning](#sklearn-tuning)\n",
        "    * [9 - Cross-Validation](#sklearn-cv)\n",
        "    * [10 - Interpretation](#sklearn-explain)\n",
        "\n"
      ]
    },
    {
      "cell_type": "markdown",
      "metadata": {
        "id": "ChluJsAwFNuW"
      },
      "source": [
        "## Goal of this exercise:\n",
        "\n",
        "> During the first two weeks of the Bootcamp, we reviewed some classic ML algorithms. In practice, machine learning engineers and dats scientists spend quite a bit effort on data preparation, feature engineering, and ml pipelines. In the later half of deep learning, we will focus more on unstructured data such as images and text. So we'd like to give everyone a chance to complete an end to end ML pipeline (training your models up to evaluation). This will help us get prepared for term 2: MLOps, where we will be deploying the model we build in this exercise.  \n",
        "\n",
        "### Requirements\n",
        "\n",
        "1. Follow these steps to complete the model building (you don't have to stick to it as some data scientists prefer to have slightly different process)\n",
        "2. After training your models in the jupyter notebook, try to implement that in VSCode using python scripts. \n",
        "\n",
        "### Bonus points\n",
        "3. Try to modularize your code as much as possible\n",
        "4. Try to leverage ML pipeline features in scikit-learn [reference](https://scikit-learn.org/stable/modules/generated/sklearn.pipeline.Pipeline.html)\n",
        "5. Try to add customer transformer for feature engineering [example](https://www.section.io/engineering-education/custom-transformer/)\n",
        "\n",
        "### Other notes\n",
        "1. This is not an exam. No need to panic. \n",
        "2. Once you upload your solution, we will provide code review and give you feedback. "
      ]
    },
    {
      "cell_type": "code",
      "execution_count": 1,
      "metadata": {
        "id": "HzKzURBBFNuW"
      },
      "outputs": [],
      "source": [
        "import pandas as pd\n",
        "import numpy as np\n",
        "import scipy as sp\n",
        "\n",
        "import matplotlib.pyplot as plt \n",
        "%matplotlib inline\n",
        "\n",
        "pd.set_option('display.max_columns', None)  # allows displaying all columns in a dataframe \n",
        "pd.set_option('display.max_rows', 50)\n"
      ]
    },
    {
      "cell_type": "markdown",
      "metadata": {
        "id": "KR1HdzoaFNuX"
      },
      "source": [
        "---"
      ]
    },
    {
      "cell_type": "markdown",
      "metadata": {
        "id": "D_EMY2GZFNuX"
      },
      "source": [
        "# $\\Sigma$ 5. Challenge: ML Classification with Scikit-learn <a name=\"sklearn\"></a></a><font size='3'>[Back to TOC](#toc)</font>"
      ]
    },
    {
      "cell_type": "code",
      "execution_count": 2,
      "metadata": {
        "id": "yWz1ejdGFNuX"
      },
      "outputs": [],
      "source": [
        "import pandas as pd\n",
        "import numpy as np\n",
        "import matplotlib.pyplot as plt\n",
        "import seaborn as sns\n",
        "%matplotlib inline \n",
        "\n",
        "from sklearn.ensemble import RandomForestClassifier, GradientBoostingClassifier, AdaBoostClassifier\n",
        "from sklearn.linear_model import LogisticRegression\n",
        "from sklearn.model_selection import train_test_split\n",
        "from sklearn.metrics import roc_auc_score\n",
        "from sklearn import tree\n",
        "from sklearn.metrics import classification_report\n",
        "from sklearn.model_selection import GridSearchCV\n",
        "from sklearn.model_selection import cross_validate\n",
        "from sklearn.preprocessing import StandardScaler"
      ]
    },
    {
      "cell_type": "markdown",
      "metadata": {
        "id": "mUTqeJiTFNuX"
      },
      "source": [
        "## 5.1 - Data Preparation <a name=\"sklearn-data-prep\"></a><font size='3'>[Back to TOC](#toc)</font>\n",
        "\n",
        "In scikit-learn, we chose a representation of data that is as close as possible to the matrix representation. Datasets are encoded as NumPy multidimensional arrays for dense data and SciPy sparse matrices for sparse data\n",
        "\n",
        "<img src='https://s3.amazonaws.com/weclouddata/images/python/ml_data_extraction.png' width='50%'>\n",
        "\n",
        "One of the most critical steps in machine learning and predictive modeling is to create the modeling dataset. For classic machine learning problems, we usually prepare the data into a structured table that has **`one row per user|document|image`**, and the **`columns representing the features`**, and **`one of the columns representing the labels|target`1**. \n",
        "\n",
        "<img src='https://s3.amazonaws.com/weclouddata/images/python/ml_model_dataset.png' width='50%'>"
      ]
    },
    {
      "cell_type": "markdown",
      "metadata": {
        "id": "Rahnu7X3FNuX"
      },
      "source": [
        "### $\\Delta$ 5.1.1 - Load ML Data  <font size='3'>[Back to TOC](#toc)</font>\n",
        "\n",
        "The data in this tutorial comes from the [Kaggle challenge](https://www.kaggle.com/c/GiveMeSomeCredit), which requires participants to improve on the state of the art in credit scoring, by predicting the probability that somebody will experience financial distress in the next two years.\n",
        "\n",
        "https://www.kaggle.com/general/74235"
      ]
    },
    {
      "cell_type": "markdown",
      "metadata": {
        "id": "UhvmujuzFNuY"
      },
      "source": [
        "#### <font color='#FC7307'> $\\delta$  Instruction\n",
        "\n",
        "- The dataset can be downloaded from the Kaggle link above \n",
        "- Read and display the data\n",
        "- Explore the dimensions of the data"
      ]
    },
    {
      "cell_type": "code",
      "execution_count": 3,
      "metadata": {
        "id": "hkaBKq8oFNuY"
      },
      "outputs": [],
      "source": [
        "! pip install -q kaggle"
      ]
    },
    {
      "cell_type": "code",
      "source": [
        "from google.colab import files"
      ],
      "metadata": {
        "id": "DVVWQrkuF2zj"
      },
      "execution_count": 4,
      "outputs": []
    },
    {
      "cell_type": "code",
      "source": [
        "files.upload()"
      ],
      "metadata": {
        "colab": {
          "base_uri": "https://localhost:8080/",
          "height": 91
        },
        "id": "NsEIjsCPF22i",
        "outputId": "72cd6ade-e65e-41ab-b404-c6f9d2db382a"
      },
      "execution_count": 5,
      "outputs": [
        {
          "output_type": "display_data",
          "data": {
            "text/plain": [
              "<IPython.core.display.HTML object>"
            ],
            "text/html": [
              "\n",
              "     <input type=\"file\" id=\"files-54e496ce-d81b-47ac-af3f-531d614cbd98\" name=\"files[]\" multiple disabled\n",
              "        style=\"border:none\" />\n",
              "     <output id=\"result-54e496ce-d81b-47ac-af3f-531d614cbd98\">\n",
              "      Upload widget is only available when the cell has been executed in the\n",
              "      current browser session. Please rerun this cell to enable.\n",
              "      </output>\n",
              "      <script>// Copyright 2017 Google LLC\n",
              "//\n",
              "// Licensed under the Apache License, Version 2.0 (the \"License\");\n",
              "// you may not use this file except in compliance with the License.\n",
              "// You may obtain a copy of the License at\n",
              "//\n",
              "//      http://www.apache.org/licenses/LICENSE-2.0\n",
              "//\n",
              "// Unless required by applicable law or agreed to in writing, software\n",
              "// distributed under the License is distributed on an \"AS IS\" BASIS,\n",
              "// WITHOUT WARRANTIES OR CONDITIONS OF ANY KIND, either express or implied.\n",
              "// See the License for the specific language governing permissions and\n",
              "// limitations under the License.\n",
              "\n",
              "/**\n",
              " * @fileoverview Helpers for google.colab Python module.\n",
              " */\n",
              "(function(scope) {\n",
              "function span(text, styleAttributes = {}) {\n",
              "  const element = document.createElement('span');\n",
              "  element.textContent = text;\n",
              "  for (const key of Object.keys(styleAttributes)) {\n",
              "    element.style[key] = styleAttributes[key];\n",
              "  }\n",
              "  return element;\n",
              "}\n",
              "\n",
              "// Max number of bytes which will be uploaded at a time.\n",
              "const MAX_PAYLOAD_SIZE = 100 * 1024;\n",
              "\n",
              "function _uploadFiles(inputId, outputId) {\n",
              "  const steps = uploadFilesStep(inputId, outputId);\n",
              "  const outputElement = document.getElementById(outputId);\n",
              "  // Cache steps on the outputElement to make it available for the next call\n",
              "  // to uploadFilesContinue from Python.\n",
              "  outputElement.steps = steps;\n",
              "\n",
              "  return _uploadFilesContinue(outputId);\n",
              "}\n",
              "\n",
              "// This is roughly an async generator (not supported in the browser yet),\n",
              "// where there are multiple asynchronous steps and the Python side is going\n",
              "// to poll for completion of each step.\n",
              "// This uses a Promise to block the python side on completion of each step,\n",
              "// then passes the result of the previous step as the input to the next step.\n",
              "function _uploadFilesContinue(outputId) {\n",
              "  const outputElement = document.getElementById(outputId);\n",
              "  const steps = outputElement.steps;\n",
              "\n",
              "  const next = steps.next(outputElement.lastPromiseValue);\n",
              "  return Promise.resolve(next.value.promise).then((value) => {\n",
              "    // Cache the last promise value to make it available to the next\n",
              "    // step of the generator.\n",
              "    outputElement.lastPromiseValue = value;\n",
              "    return next.value.response;\n",
              "  });\n",
              "}\n",
              "\n",
              "/**\n",
              " * Generator function which is called between each async step of the upload\n",
              " * process.\n",
              " * @param {string} inputId Element ID of the input file picker element.\n",
              " * @param {string} outputId Element ID of the output display.\n",
              " * @return {!Iterable<!Object>} Iterable of next steps.\n",
              " */\n",
              "function* uploadFilesStep(inputId, outputId) {\n",
              "  const inputElement = document.getElementById(inputId);\n",
              "  inputElement.disabled = false;\n",
              "\n",
              "  const outputElement = document.getElementById(outputId);\n",
              "  outputElement.innerHTML = '';\n",
              "\n",
              "  const pickedPromise = new Promise((resolve) => {\n",
              "    inputElement.addEventListener('change', (e) => {\n",
              "      resolve(e.target.files);\n",
              "    });\n",
              "  });\n",
              "\n",
              "  const cancel = document.createElement('button');\n",
              "  inputElement.parentElement.appendChild(cancel);\n",
              "  cancel.textContent = 'Cancel upload';\n",
              "  const cancelPromise = new Promise((resolve) => {\n",
              "    cancel.onclick = () => {\n",
              "      resolve(null);\n",
              "    };\n",
              "  });\n",
              "\n",
              "  // Wait for the user to pick the files.\n",
              "  const files = yield {\n",
              "    promise: Promise.race([pickedPromise, cancelPromise]),\n",
              "    response: {\n",
              "      action: 'starting',\n",
              "    }\n",
              "  };\n",
              "\n",
              "  cancel.remove();\n",
              "\n",
              "  // Disable the input element since further picks are not allowed.\n",
              "  inputElement.disabled = true;\n",
              "\n",
              "  if (!files) {\n",
              "    return {\n",
              "      response: {\n",
              "        action: 'complete',\n",
              "      }\n",
              "    };\n",
              "  }\n",
              "\n",
              "  for (const file of files) {\n",
              "    const li = document.createElement('li');\n",
              "    li.append(span(file.name, {fontWeight: 'bold'}));\n",
              "    li.append(span(\n",
              "        `(${file.type || 'n/a'}) - ${file.size} bytes, ` +\n",
              "        `last modified: ${\n",
              "            file.lastModifiedDate ? file.lastModifiedDate.toLocaleDateString() :\n",
              "                                    'n/a'} - `));\n",
              "    const percent = span('0% done');\n",
              "    li.appendChild(percent);\n",
              "\n",
              "    outputElement.appendChild(li);\n",
              "\n",
              "    const fileDataPromise = new Promise((resolve) => {\n",
              "      const reader = new FileReader();\n",
              "      reader.onload = (e) => {\n",
              "        resolve(e.target.result);\n",
              "      };\n",
              "      reader.readAsArrayBuffer(file);\n",
              "    });\n",
              "    // Wait for the data to be ready.\n",
              "    let fileData = yield {\n",
              "      promise: fileDataPromise,\n",
              "      response: {\n",
              "        action: 'continue',\n",
              "      }\n",
              "    };\n",
              "\n",
              "    // Use a chunked sending to avoid message size limits. See b/62115660.\n",
              "    let position = 0;\n",
              "    do {\n",
              "      const length = Math.min(fileData.byteLength - position, MAX_PAYLOAD_SIZE);\n",
              "      const chunk = new Uint8Array(fileData, position, length);\n",
              "      position += length;\n",
              "\n",
              "      const base64 = btoa(String.fromCharCode.apply(null, chunk));\n",
              "      yield {\n",
              "        response: {\n",
              "          action: 'append',\n",
              "          file: file.name,\n",
              "          data: base64,\n",
              "        },\n",
              "      };\n",
              "\n",
              "      let percentDone = fileData.byteLength === 0 ?\n",
              "          100 :\n",
              "          Math.round((position / fileData.byteLength) * 100);\n",
              "      percent.textContent = `${percentDone}% done`;\n",
              "\n",
              "    } while (position < fileData.byteLength);\n",
              "  }\n",
              "\n",
              "  // All done.\n",
              "  yield {\n",
              "    response: {\n",
              "      action: 'complete',\n",
              "    }\n",
              "  };\n",
              "}\n",
              "\n",
              "scope.google = scope.google || {};\n",
              "scope.google.colab = scope.google.colab || {};\n",
              "scope.google.colab._files = {\n",
              "  _uploadFiles,\n",
              "  _uploadFilesContinue,\n",
              "};\n",
              "})(self);\n",
              "</script> "
            ]
          },
          "metadata": {}
        },
        {
          "output_type": "stream",
          "name": "stdout",
          "text": [
            "Saving kaggle.json to kaggle (1).json\n"
          ]
        },
        {
          "output_type": "execute_result",
          "data": {
            "text/plain": [
              "{'kaggle.json': b'{\"username\":\"aliclinton\",\"key\":\"907b8d30d578d9af55464e42aa470fb9\"}'}"
            ]
          },
          "metadata": {},
          "execution_count": 5
        }
      ]
    },
    {
      "cell_type": "code",
      "source": [
        "!mkdir ~/.kaggle"
      ],
      "metadata": {
        "id": "GnO87JzwF25a",
        "colab": {
          "base_uri": "https://localhost:8080/"
        },
        "outputId": "2561a60d-8357-4a2b-e87c-01bab51fd4af"
      },
      "execution_count": 6,
      "outputs": [
        {
          "output_type": "stream",
          "name": "stdout",
          "text": [
            "mkdir: cannot create directory ‘/root/.kaggle’: File exists\n"
          ]
        }
      ]
    },
    {
      "cell_type": "code",
      "source": [
        "!cp kaggle.json ~/.kaggle/"
      ],
      "metadata": {
        "id": "Yijv8YRBGiEI"
      },
      "execution_count": 7,
      "outputs": []
    },
    {
      "cell_type": "code",
      "source": [
        "!chmod 600 ~/.kaggle/kaggle.json"
      ],
      "metadata": {
        "id": "ZlW4Vo3PGiHB"
      },
      "execution_count": 8,
      "outputs": []
    },
    {
      "cell_type": "code",
      "source": [
        "!kaggle competitions download -c GiveMeSomeCredit"
      ],
      "metadata": {
        "colab": {
          "base_uri": "https://localhost:8080/"
        },
        "id": "9QhDZrH4F1ql",
        "outputId": "6f2c00d0-1370-4067-e138-5b27e33107d8"
      },
      "execution_count": 9,
      "outputs": [
        {
          "output_type": "stream",
          "name": "stdout",
          "text": [
            "GiveMeSomeCredit.zip: Skipping, found more recently modified local copy (use --force to force download)\n"
          ]
        }
      ]
    },
    {
      "cell_type": "code",
      "source": [
        "!mkdir credit"
      ],
      "metadata": {
        "id": "MXzIcimGHMxL",
        "colab": {
          "base_uri": "https://localhost:8080/"
        },
        "outputId": "cdc6cbe6-594c-466d-86bf-e3e21ab4ee18"
      },
      "execution_count": 10,
      "outputs": [
        {
          "output_type": "stream",
          "name": "stdout",
          "text": [
            "mkdir: cannot create directory ‘credit’: File exists\n"
          ]
        }
      ]
    },
    {
      "cell_type": "code",
      "source": [
        "!unzip GiveMeSomeCredit.zip -d credit"
      ],
      "metadata": {
        "colab": {
          "base_uri": "https://localhost:8080/"
        },
        "id": "XVGoK38AHP9H",
        "outputId": "c4a1dcc7-466a-4931-8cf0-27a46b3ff5dc"
      },
      "execution_count": 11,
      "outputs": [
        {
          "output_type": "stream",
          "name": "stdout",
          "text": [
            "Archive:  GiveMeSomeCredit.zip\n",
            "replace credit/Data Dictionary.xls? [y]es, [n]o, [A]ll, [N]one, [r]ename: y\n",
            "  inflating: credit/Data Dictionary.xls  \n",
            "replace credit/cs-test.csv? [y]es, [n]o, [A]ll, [N]one, [r]ename: a\n",
            "error:  invalid response [a]\n",
            "replace credit/cs-test.csv? [y]es, [n]o, [A]ll, [N]one, [r]ename: A\n",
            "  inflating: credit/cs-test.csv      \n",
            "  inflating: credit/cs-training.csv  \n",
            "  inflating: credit/sampleEntry.csv  \n"
          ]
        }
      ]
    },
    {
      "cell_type": "code",
      "source": [],
      "metadata": {
        "id": "uI2Vk0thHedc"
      },
      "execution_count": 12,
      "outputs": []
    },
    {
      "cell_type": "code",
      "source": [
        "cs_training_df.head()"
      ],
      "metadata": {
        "colab": {
          "base_uri": "https://localhost:8080/",
          "height": 287
        },
        "id": "trNzQWhkHnjE",
        "outputId": "3eff125f-afb3-4fab-defb-7b29e44639d2"
      },
      "execution_count": 13,
      "outputs": [
        {
          "output_type": "execute_result",
          "data": {
            "text/plain": [
              "   SeriousDlqin2yrs  RevolvingUtilizationOfUnsecuredLines  age  \\\n",
              "1                 1                              0.766127   45   \n",
              "2                 0                              0.957151   40   \n",
              "3                 0                              0.658180   38   \n",
              "4                 0                              0.233810   30   \n",
              "5                 0                              0.907239   49   \n",
              "\n",
              "   NumberOfTime30-59DaysPastDueNotWorse  DebtRatio  MonthlyIncome  \\\n",
              "1                                     2   0.802982         9120.0   \n",
              "2                                     0   0.121876         2600.0   \n",
              "3                                     1   0.085113         3042.0   \n",
              "4                                     0   0.036050         3300.0   \n",
              "5                                     1   0.024926        63588.0   \n",
              "\n",
              "   NumberOfOpenCreditLinesAndLoans  NumberOfTimes90DaysLate  \\\n",
              "1                               13                        0   \n",
              "2                                4                        0   \n",
              "3                                2                        1   \n",
              "4                                5                        0   \n",
              "5                                7                        0   \n",
              "\n",
              "   NumberRealEstateLoansOrLines  NumberOfTime60-89DaysPastDueNotWorse  \\\n",
              "1                             6                                     0   \n",
              "2                             0                                     0   \n",
              "3                             0                                     0   \n",
              "4                             0                                     0   \n",
              "5                             1                                     0   \n",
              "\n",
              "   NumberOfDependents  \n",
              "1                 2.0  \n",
              "2                 1.0  \n",
              "3                 0.0  \n",
              "4                 0.0  \n",
              "5                 0.0  "
            ],
            "text/html": [
              "\n",
              "  <div id=\"df-daf1c021-2ae4-4a3d-b364-2033bceee435\">\n",
              "    <div class=\"colab-df-container\">\n",
              "      <div>\n",
              "<style scoped>\n",
              "    .dataframe tbody tr th:only-of-type {\n",
              "        vertical-align: middle;\n",
              "    }\n",
              "\n",
              "    .dataframe tbody tr th {\n",
              "        vertical-align: top;\n",
              "    }\n",
              "\n",
              "    .dataframe thead th {\n",
              "        text-align: right;\n",
              "    }\n",
              "</style>\n",
              "<table border=\"1\" class=\"dataframe\">\n",
              "  <thead>\n",
              "    <tr style=\"text-align: right;\">\n",
              "      <th></th>\n",
              "      <th>SeriousDlqin2yrs</th>\n",
              "      <th>RevolvingUtilizationOfUnsecuredLines</th>\n",
              "      <th>age</th>\n",
              "      <th>NumberOfTime30-59DaysPastDueNotWorse</th>\n",
              "      <th>DebtRatio</th>\n",
              "      <th>MonthlyIncome</th>\n",
              "      <th>NumberOfOpenCreditLinesAndLoans</th>\n",
              "      <th>NumberOfTimes90DaysLate</th>\n",
              "      <th>NumberRealEstateLoansOrLines</th>\n",
              "      <th>NumberOfTime60-89DaysPastDueNotWorse</th>\n",
              "      <th>NumberOfDependents</th>\n",
              "    </tr>\n",
              "  </thead>\n",
              "  <tbody>\n",
              "    <tr>\n",
              "      <th>1</th>\n",
              "      <td>1</td>\n",
              "      <td>0.766127</td>\n",
              "      <td>45</td>\n",
              "      <td>2</td>\n",
              "      <td>0.802982</td>\n",
              "      <td>9120.0</td>\n",
              "      <td>13</td>\n",
              "      <td>0</td>\n",
              "      <td>6</td>\n",
              "      <td>0</td>\n",
              "      <td>2.0</td>\n",
              "    </tr>\n",
              "    <tr>\n",
              "      <th>2</th>\n",
              "      <td>0</td>\n",
              "      <td>0.957151</td>\n",
              "      <td>40</td>\n",
              "      <td>0</td>\n",
              "      <td>0.121876</td>\n",
              "      <td>2600.0</td>\n",
              "      <td>4</td>\n",
              "      <td>0</td>\n",
              "      <td>0</td>\n",
              "      <td>0</td>\n",
              "      <td>1.0</td>\n",
              "    </tr>\n",
              "    <tr>\n",
              "      <th>3</th>\n",
              "      <td>0</td>\n",
              "      <td>0.658180</td>\n",
              "      <td>38</td>\n",
              "      <td>1</td>\n",
              "      <td>0.085113</td>\n",
              "      <td>3042.0</td>\n",
              "      <td>2</td>\n",
              "      <td>1</td>\n",
              "      <td>0</td>\n",
              "      <td>0</td>\n",
              "      <td>0.0</td>\n",
              "    </tr>\n",
              "    <tr>\n",
              "      <th>4</th>\n",
              "      <td>0</td>\n",
              "      <td>0.233810</td>\n",
              "      <td>30</td>\n",
              "      <td>0</td>\n",
              "      <td>0.036050</td>\n",
              "      <td>3300.0</td>\n",
              "      <td>5</td>\n",
              "      <td>0</td>\n",
              "      <td>0</td>\n",
              "      <td>0</td>\n",
              "      <td>0.0</td>\n",
              "    </tr>\n",
              "    <tr>\n",
              "      <th>5</th>\n",
              "      <td>0</td>\n",
              "      <td>0.907239</td>\n",
              "      <td>49</td>\n",
              "      <td>1</td>\n",
              "      <td>0.024926</td>\n",
              "      <td>63588.0</td>\n",
              "      <td>7</td>\n",
              "      <td>0</td>\n",
              "      <td>1</td>\n",
              "      <td>0</td>\n",
              "      <td>0.0</td>\n",
              "    </tr>\n",
              "  </tbody>\n",
              "</table>\n",
              "</div>\n",
              "      <button class=\"colab-df-convert\" onclick=\"convertToInteractive('df-daf1c021-2ae4-4a3d-b364-2033bceee435')\"\n",
              "              title=\"Convert this dataframe to an interactive table.\"\n",
              "              style=\"display:none;\">\n",
              "        \n",
              "  <svg xmlns=\"http://www.w3.org/2000/svg\" height=\"24px\"viewBox=\"0 0 24 24\"\n",
              "       width=\"24px\">\n",
              "    <path d=\"M0 0h24v24H0V0z\" fill=\"none\"/>\n",
              "    <path d=\"M18.56 5.44l.94 2.06.94-2.06 2.06-.94-2.06-.94-.94-2.06-.94 2.06-2.06.94zm-11 1L8.5 8.5l.94-2.06 2.06-.94-2.06-.94L8.5 2.5l-.94 2.06-2.06.94zm10 10l.94 2.06.94-2.06 2.06-.94-2.06-.94-.94-2.06-.94 2.06-2.06.94z\"/><path d=\"M17.41 7.96l-1.37-1.37c-.4-.4-.92-.59-1.43-.59-.52 0-1.04.2-1.43.59L10.3 9.45l-7.72 7.72c-.78.78-.78 2.05 0 2.83L4 21.41c.39.39.9.59 1.41.59.51 0 1.02-.2 1.41-.59l7.78-7.78 2.81-2.81c.8-.78.8-2.07 0-2.86zM5.41 20L4 18.59l7.72-7.72 1.47 1.35L5.41 20z\"/>\n",
              "  </svg>\n",
              "      </button>\n",
              "      \n",
              "  <style>\n",
              "    .colab-df-container {\n",
              "      display:flex;\n",
              "      flex-wrap:wrap;\n",
              "      gap: 12px;\n",
              "    }\n",
              "\n",
              "    .colab-df-convert {\n",
              "      background-color: #E8F0FE;\n",
              "      border: none;\n",
              "      border-radius: 50%;\n",
              "      cursor: pointer;\n",
              "      display: none;\n",
              "      fill: #1967D2;\n",
              "      height: 32px;\n",
              "      padding: 0 0 0 0;\n",
              "      width: 32px;\n",
              "    }\n",
              "\n",
              "    .colab-df-convert:hover {\n",
              "      background-color: #E2EBFA;\n",
              "      box-shadow: 0px 1px 2px rgba(60, 64, 67, 0.3), 0px 1px 3px 1px rgba(60, 64, 67, 0.15);\n",
              "      fill: #174EA6;\n",
              "    }\n",
              "\n",
              "    [theme=dark] .colab-df-convert {\n",
              "      background-color: #3B4455;\n",
              "      fill: #D2E3FC;\n",
              "    }\n",
              "\n",
              "    [theme=dark] .colab-df-convert:hover {\n",
              "      background-color: #434B5C;\n",
              "      box-shadow: 0px 1px 3px 1px rgba(0, 0, 0, 0.15);\n",
              "      filter: drop-shadow(0px 1px 2px rgba(0, 0, 0, 0.3));\n",
              "      fill: #FFFFFF;\n",
              "    }\n",
              "  </style>\n",
              "\n",
              "      <script>\n",
              "        const buttonEl =\n",
              "          document.querySelector('#df-daf1c021-2ae4-4a3d-b364-2033bceee435 button.colab-df-convert');\n",
              "        buttonEl.style.display =\n",
              "          google.colab.kernel.accessAllowed ? 'block' : 'none';\n",
              "\n",
              "        async function convertToInteractive(key) {\n",
              "          const element = document.querySelector('#df-daf1c021-2ae4-4a3d-b364-2033bceee435');\n",
              "          const dataTable =\n",
              "            await google.colab.kernel.invokeFunction('convertToInteractive',\n",
              "                                                     [key], {});\n",
              "          if (!dataTable) return;\n",
              "\n",
              "          const docLinkHtml = 'Like what you see? Visit the ' +\n",
              "            '<a target=\"_blank\" href=https://colab.research.google.com/notebooks/data_table.ipynb>data table notebook</a>'\n",
              "            + ' to learn more about interactive tables.';\n",
              "          element.innerHTML = '';\n",
              "          dataTable['output_type'] = 'display_data';\n",
              "          await google.colab.output.renderOutput(dataTable, element);\n",
              "          const docLink = document.createElement('div');\n",
              "          docLink.innerHTML = docLinkHtml;\n",
              "          element.appendChild(docLink);\n",
              "        }\n",
              "      </script>\n",
              "    </div>\n",
              "  </div>\n",
              "  "
            ]
          },
          "metadata": {},
          "execution_count": 13
        }
      ]
    },
    {
      "cell_type": "code",
      "source": [
        "cs_training_df[['SeriousDlqin2yrs']]"
      ],
      "metadata": {
        "colab": {
          "base_uri": "https://localhost:8080/",
          "height": 424
        },
        "id": "nxutgSd0IUkS",
        "outputId": "06e4666e-08cf-4e59-e397-7bc2de819c60"
      },
      "execution_count": 14,
      "outputs": [
        {
          "output_type": "execute_result",
          "data": {
            "text/plain": [
              "        SeriousDlqin2yrs\n",
              "1                      1\n",
              "2                      0\n",
              "3                      0\n",
              "4                      0\n",
              "5                      0\n",
              "...                  ...\n",
              "149996                 0\n",
              "149997                 0\n",
              "149998                 0\n",
              "149999                 0\n",
              "150000                 0\n",
              "\n",
              "[150000 rows x 1 columns]"
            ],
            "text/html": [
              "\n",
              "  <div id=\"df-4748bce3-dd09-4bae-ab34-b6f9a92c50a7\">\n",
              "    <div class=\"colab-df-container\">\n",
              "      <div>\n",
              "<style scoped>\n",
              "    .dataframe tbody tr th:only-of-type {\n",
              "        vertical-align: middle;\n",
              "    }\n",
              "\n",
              "    .dataframe tbody tr th {\n",
              "        vertical-align: top;\n",
              "    }\n",
              "\n",
              "    .dataframe thead th {\n",
              "        text-align: right;\n",
              "    }\n",
              "</style>\n",
              "<table border=\"1\" class=\"dataframe\">\n",
              "  <thead>\n",
              "    <tr style=\"text-align: right;\">\n",
              "      <th></th>\n",
              "      <th>SeriousDlqin2yrs</th>\n",
              "    </tr>\n",
              "  </thead>\n",
              "  <tbody>\n",
              "    <tr>\n",
              "      <th>1</th>\n",
              "      <td>1</td>\n",
              "    </tr>\n",
              "    <tr>\n",
              "      <th>2</th>\n",
              "      <td>0</td>\n",
              "    </tr>\n",
              "    <tr>\n",
              "      <th>3</th>\n",
              "      <td>0</td>\n",
              "    </tr>\n",
              "    <tr>\n",
              "      <th>4</th>\n",
              "      <td>0</td>\n",
              "    </tr>\n",
              "    <tr>\n",
              "      <th>5</th>\n",
              "      <td>0</td>\n",
              "    </tr>\n",
              "    <tr>\n",
              "      <th>...</th>\n",
              "      <td>...</td>\n",
              "    </tr>\n",
              "    <tr>\n",
              "      <th>149996</th>\n",
              "      <td>0</td>\n",
              "    </tr>\n",
              "    <tr>\n",
              "      <th>149997</th>\n",
              "      <td>0</td>\n",
              "    </tr>\n",
              "    <tr>\n",
              "      <th>149998</th>\n",
              "      <td>0</td>\n",
              "    </tr>\n",
              "    <tr>\n",
              "      <th>149999</th>\n",
              "      <td>0</td>\n",
              "    </tr>\n",
              "    <tr>\n",
              "      <th>150000</th>\n",
              "      <td>0</td>\n",
              "    </tr>\n",
              "  </tbody>\n",
              "</table>\n",
              "<p>150000 rows × 1 columns</p>\n",
              "</div>\n",
              "      <button class=\"colab-df-convert\" onclick=\"convertToInteractive('df-4748bce3-dd09-4bae-ab34-b6f9a92c50a7')\"\n",
              "              title=\"Convert this dataframe to an interactive table.\"\n",
              "              style=\"display:none;\">\n",
              "        \n",
              "  <svg xmlns=\"http://www.w3.org/2000/svg\" height=\"24px\"viewBox=\"0 0 24 24\"\n",
              "       width=\"24px\">\n",
              "    <path d=\"M0 0h24v24H0V0z\" fill=\"none\"/>\n",
              "    <path d=\"M18.56 5.44l.94 2.06.94-2.06 2.06-.94-2.06-.94-.94-2.06-.94 2.06-2.06.94zm-11 1L8.5 8.5l.94-2.06 2.06-.94-2.06-.94L8.5 2.5l-.94 2.06-2.06.94zm10 10l.94 2.06.94-2.06 2.06-.94-2.06-.94-.94-2.06-.94 2.06-2.06.94z\"/><path d=\"M17.41 7.96l-1.37-1.37c-.4-.4-.92-.59-1.43-.59-.52 0-1.04.2-1.43.59L10.3 9.45l-7.72 7.72c-.78.78-.78 2.05 0 2.83L4 21.41c.39.39.9.59 1.41.59.51 0 1.02-.2 1.41-.59l7.78-7.78 2.81-2.81c.8-.78.8-2.07 0-2.86zM5.41 20L4 18.59l7.72-7.72 1.47 1.35L5.41 20z\"/>\n",
              "  </svg>\n",
              "      </button>\n",
              "      \n",
              "  <style>\n",
              "    .colab-df-container {\n",
              "      display:flex;\n",
              "      flex-wrap:wrap;\n",
              "      gap: 12px;\n",
              "    }\n",
              "\n",
              "    .colab-df-convert {\n",
              "      background-color: #E8F0FE;\n",
              "      border: none;\n",
              "      border-radius: 50%;\n",
              "      cursor: pointer;\n",
              "      display: none;\n",
              "      fill: #1967D2;\n",
              "      height: 32px;\n",
              "      padding: 0 0 0 0;\n",
              "      width: 32px;\n",
              "    }\n",
              "\n",
              "    .colab-df-convert:hover {\n",
              "      background-color: #E2EBFA;\n",
              "      box-shadow: 0px 1px 2px rgba(60, 64, 67, 0.3), 0px 1px 3px 1px rgba(60, 64, 67, 0.15);\n",
              "      fill: #174EA6;\n",
              "    }\n",
              "\n",
              "    [theme=dark] .colab-df-convert {\n",
              "      background-color: #3B4455;\n",
              "      fill: #D2E3FC;\n",
              "    }\n",
              "\n",
              "    [theme=dark] .colab-df-convert:hover {\n",
              "      background-color: #434B5C;\n",
              "      box-shadow: 0px 1px 3px 1px rgba(0, 0, 0, 0.15);\n",
              "      filter: drop-shadow(0px 1px 2px rgba(0, 0, 0, 0.3));\n",
              "      fill: #FFFFFF;\n",
              "    }\n",
              "  </style>\n",
              "\n",
              "      <script>\n",
              "        const buttonEl =\n",
              "          document.querySelector('#df-4748bce3-dd09-4bae-ab34-b6f9a92c50a7 button.colab-df-convert');\n",
              "        buttonEl.style.display =\n",
              "          google.colab.kernel.accessAllowed ? 'block' : 'none';\n",
              "\n",
              "        async function convertToInteractive(key) {\n",
              "          const element = document.querySelector('#df-4748bce3-dd09-4bae-ab34-b6f9a92c50a7');\n",
              "          const dataTable =\n",
              "            await google.colab.kernel.invokeFunction('convertToInteractive',\n",
              "                                                     [key], {});\n",
              "          if (!dataTable) return;\n",
              "\n",
              "          const docLinkHtml = 'Like what you see? Visit the ' +\n",
              "            '<a target=\"_blank\" href=https://colab.research.google.com/notebooks/data_table.ipynb>data table notebook</a>'\n",
              "            + ' to learn more about interactive tables.';\n",
              "          element.innerHTML = '';\n",
              "          dataTable['output_type'] = 'display_data';\n",
              "          await google.colab.output.renderOutput(dataTable, element);\n",
              "          const docLink = document.createElement('div');\n",
              "          docLink.innerHTML = docLinkHtml;\n",
              "          element.appendChild(docLink);\n",
              "        }\n",
              "      </script>\n",
              "    </div>\n",
              "  </div>\n",
              "  "
            ]
          },
          "metadata": {},
          "execution_count": 14
        }
      ]
    },
    {
      "cell_type": "code",
      "source": [
        "cs_training_df.shape"
      ],
      "metadata": {
        "colab": {
          "base_uri": "https://localhost:8080/"
        },
        "id": "vXWOq4gkHt17",
        "outputId": "1ea6ee87-b2f3-4a99-87fe-60c43de95974"
      },
      "execution_count": 15,
      "outputs": [
        {
          "output_type": "execute_result",
          "data": {
            "text/plain": [
              "(150000, 11)"
            ]
          },
          "metadata": {},
          "execution_count": 15
        }
      ]
    },
    {
      "cell_type": "markdown",
      "metadata": {
        "id": "ZM5hGzpcFNuY"
      },
      "source": [
        "> So in this credit dataset, we have 150000 customers with 11 predictors"
      ]
    },
    {
      "cell_type": "markdown",
      "metadata": {
        "id": "CVgomJCJFNuY"
      },
      "source": [
        "## 5.2 - Sampling and Data Split <a name=\"sklearn-split\"></a><font size='3'>[Back to TOC](#toc)</font>\n"
      ]
    },
    {
      "cell_type": "markdown",
      "metadata": {
        "id": "MPHO8EGDFNuY"
      },
      "source": [
        "### $\\Delta$ 5.2.1 - Sampling  <font size='3'>[Back to TOC](#toc)</font>\n",
        "\n",
        "> When you have a large dataset, you can take a random sample or stratified sample and train the models on a subset on your laptop\n",
        "> - `pandas.sample` or equivalent can be used for sampling. \n",
        "\n",
        "**Since the dataset is not very big, we decide NOT to do sampling. **\n"
      ]
    },
    {
      "cell_type": "markdown",
      "metadata": {
        "id": "UXlEskSAFNuY"
      },
      "source": [
        "### $\\Delta$ 5.1.2 - Data Splitting  <font size='3'>[Back to TOC](#toc)</font>\n"
      ]
    },
    {
      "cell_type": "markdown",
      "metadata": {
        "id": "O1lSZO9gFNuY"
      },
      "source": [
        "#### <font color='#FC7307'> $\\delta$  Instruction\n",
        "\n",
        "- Split your data into train and test\n",
        "- Use 20% for testing\n",
        "\n",
        "> Hint: `train_test_split` function in sklearn\n",
        "    > set random_state=20210210"
      ]
    },
    {
      "cell_type": "code",
      "execution_count": 114,
      "metadata": {
        "id": "UhyqR2FcFNuZ"
      },
      "outputs": [],
      "source": [
        "##################################\n",
        "### Your Code Below\n",
        "##################################\n",
        "\n",
        "# split data into training(70%) and testing(30%); set a random seed for the sake of reproducibility\n",
        "X_train, X_test, y_train, y_test = train_test_split(cs_training_df.iloc[:,1:], cs_training_df.iloc[:,0], test_size=0.3, random_state=20210210)\n"
      ]
    },
    {
      "cell_type": "markdown",
      "metadata": {
        "id": "qbEF2zh1FNuZ"
      },
      "source": [
        "## 5.3 - Data Exploration <a name=\"sklearn-explore\"></a><font size='3'>[Back to TOC](#toc)</font>\n"
      ]
    },
    {
      "cell_type": "markdown",
      "metadata": {
        "id": "aDg56aqqFNuZ"
      },
      "source": [
        "### $\\Delta$ 5.3.1 - Explore the target distribution (default rate) <a name=\"env-variables\"></a><font size='3'>[Back to TOC](#toc)</font>\n",
        "\n",
        "> Column `SeriousDlqin2yrs` is the target variable we're interested in modeling. \n",
        "\n",
        "\n",
        "#### <font color='#FC7307'> $\\delta$  Instruction\n",
        "    \n",
        "- The target variable is `SeriousDlqin2yrs`. It's an indicator of serious delinquncy in past 2 years. \n",
        "- Check the default/delinquent rate in the training dataset.\n",
        "- Plot the target variable distribution using matplotlib or pd.series.plot() or df.plot()"
      ]
    },
    {
      "cell_type": "code",
      "execution_count": 115,
      "metadata": {
        "colab": {
          "base_uri": "https://localhost:8080/",
          "height": 281
        },
        "id": "4QBDeFsXFNuZ",
        "outputId": "9db1f296-177d-4955-c258-bf6b22e55c48"
      },
      "outputs": [
        {
          "output_type": "display_data",
          "data": {
            "text/plain": [
              "<Figure size 432x288 with 1 Axes>"
            ],
            "image/png": "[encoded data removed]"
          },
          "metadata": {
            "needs_background": "light"
          }
        }
      ],
      "source": [
        "from matplotlib import patches\n",
        "###################################\n",
        "### Your Code Below\n",
        "###################################\n",
        "plt.figure()\n",
        "n, bins, patches = plt.hist(y_train, bins=[-0.5,0.5,1.5],density=True)\n",
        "plt.xticks([0,1])\n",
        "plt.xlim([-1, 2])\n",
        "plt.title('SeriousDlqin2yrs Distribution')\n",
        "plt.show()"
      ]
    },
    {
      "cell_type": "markdown",
      "metadata": {
        "id": "wn_N1lInFNuZ"
      },
      "source": [
        "The default rate is 6.684%, implying this is an imbalanced classification problem. You can revisit the dataset later when we finish the discussions about the imbalanced classification topic.\n",
        "By the way, 6.684% default rate in credit card portfolio is actually much higher than the actual numbers in big banks. Therefore, in reality the degree of imbalance is even more severe."
      ]
    },
    {
      "cell_type": "markdown",
      "metadata": {
        "id": "2ClCXWXpFNuZ"
      },
      "source": [
        "### $\\Delta$ 5.3.2 - Univariate Data Exploration <a name=\"env-variables\"></a><font size='3'>[Back to TOC](#toc)</font>\n",
        "\n",
        "#### <font color='#FC7307'> $\\delta$ Instructions\n",
        "\n",
        "- Calculate summary statistics for numerical variables (df.describe??)\n",
        "- Plot the histogram of each numeric feature (or one of them)\n",
        "- Plot the boxplot of each numeric feature\n",
        "- Plot the pariplot using seaborn's `sns.pairplot` module"
      ]
    },
    {
      "cell_type": "code",
      "execution_count": 116,
      "metadata": {
        "colab": {
          "base_uri": "https://localhost:8080/",
          "height": 382
        },
        "id": "xhNqxaIdFNuZ",
        "outputId": "3ee31711-9b66-4375-ef54-fcd6355f37e2"
      },
      "outputs": [
        {
          "output_type": "execute_result",
          "data": {
            "text/plain": [
              "       RevolvingUtilizationOfUnsecuredLines            age  \\\n",
              "count                         105000.000000  105000.000000   \n",
              "mean                               5.627862      52.336219   \n",
              "std                              204.362107      14.782867   \n",
              "min                                0.000000       0.000000   \n",
              "25%                                0.029671      41.000000   \n",
              "50%                                0.153441      52.000000   \n",
              "75%                                0.559215      63.000000   \n",
              "max                            29110.000000     109.000000   \n",
              "\n",
              "       NumberOfTime30-59DaysPastDueNotWorse      DebtRatio  MonthlyIncome  \\\n",
              "count                         105000.000000  105000.000000   8.406600e+04   \n",
              "mean                               0.430076     350.249412   6.646841e+03   \n",
              "std                                4.286012    1728.689059   1.255649e+04   \n",
              "min                                0.000000       0.000000   0.000000e+00   \n",
              "25%                                0.000000       0.175365   3.400000e+03   \n",
              "50%                                0.000000       0.367499   5.397500e+03   \n",
              "75%                                0.000000       0.875533   8.220000e+03   \n",
              "max                               98.000000  329664.000000   1.794060e+06   \n",
              "\n",
              "       NumberOfOpenCreditLinesAndLoans  NumberOfTimes90DaysLate  \\\n",
              "count                    105000.000000            105000.000000   \n",
              "mean                          8.445000                 0.273733   \n",
              "std                           5.128851                 4.262450   \n",
              "min                           0.000000                 0.000000   \n",
              "25%                           5.000000                 0.000000   \n",
              "50%                           8.000000                 0.000000   \n",
              "75%                          11.000000                 0.000000   \n",
              "max                          57.000000                98.000000   \n",
              "\n",
              "       NumberRealEstateLoansOrLines  NumberOfTime60-89DaysPastDueNotWorse  \\\n",
              "count                 105000.000000                         105000.000000   \n",
              "mean                       1.019419                              0.247667   \n",
              "std                        1.120198                              4.248958   \n",
              "min                        0.000000                              0.000000   \n",
              "25%                        0.000000                              0.000000   \n",
              "50%                        1.000000                              0.000000   \n",
              "75%                        2.000000                              0.000000   \n",
              "max                       25.000000                             98.000000   \n",
              "\n",
              "       NumberOfDependents  \n",
              "count        102225.00000  \n",
              "mean              0.75594  \n",
              "std               1.11630  \n",
              "min               0.00000  \n",
              "25%               0.00000  \n",
              "50%               0.00000  \n",
              "75%               1.00000  \n",
              "max              20.00000  "
            ],
            "text/html": [
              "\n",
              "  <div id=\"df-b62b78f0-8022-461d-bee9-f014e6ea009d\">\n",
              "    <div class=\"colab-df-container\">\n",
              "      <div>\n",
              "<style scoped>\n",
              "    .dataframe tbody tr th:only-of-type {\n",
              "        vertical-align: middle;\n",
              "    }\n",
              "\n",
              "    .dataframe tbody tr th {\n",
              "        vertical-align: top;\n",
              "    }\n",
              "\n",
              "    .dataframe thead th {\n",
              "        text-align: right;\n",
              "    }\n",
              "</style>\n",
              "<table border=\"1\" class=\"dataframe\">\n",
              "  <thead>\n",
              "    <tr style=\"text-align: right;\">\n",
              "      <th></th>\n",
              "      <th>RevolvingUtilizationOfUnsecuredLines</th>\n",
              "      <th>age</th>\n",
              "      <th>NumberOfTime30-59DaysPastDueNotWorse</th>\n",
              "      <th>DebtRatio</th>\n",
              "      <th>MonthlyIncome</th>\n",
              "      <th>NumberOfOpenCreditLinesAndLoans</th>\n",
              "      <th>NumberOfTimes90DaysLate</th>\n",
              "      <th>NumberRealEstateLoansOrLines</th>\n",
              "      <th>NumberOfTime60-89DaysPastDueNotWorse</th>\n",
              "      <th>NumberOfDependents</th>\n",
              "    </tr>\n",
              "  </thead>\n",
              "  <tbody>\n",
              "    <tr>\n",
              "      <th>count</th>\n",
              "      <td>105000.000000</td>\n",
              "      <td>105000.000000</td>\n",
              "      <td>105000.000000</td>\n",
              "      <td>105000.000000</td>\n",
              "      <td>8.406600e+04</td>\n",
              "      <td>105000.000000</td>\n",
              "      <td>105000.000000</td>\n",
              "      <td>105000.000000</td>\n",
              "      <td>105000.000000</td>\n",
              "      <td>102225.00000</td>\n",
              "    </tr>\n",
              "    <tr>\n",
              "      <th>mean</th>\n",
              "      <td>5.627862</td>\n",
              "      <td>52.336219</td>\n",
              "      <td>0.430076</td>\n",
              "      <td>350.249412</td>\n",
              "      <td>6.646841e+03</td>\n",
              "      <td>8.445000</td>\n",
              "      <td>0.273733</td>\n",
              "      <td>1.019419</td>\n",
              "      <td>0.247667</td>\n",
              "      <td>0.75594</td>\n",
              "    </tr>\n",
              "    <tr>\n",
              "      <th>std</th>\n",
              "      <td>204.362107</td>\n",
              "      <td>14.782867</td>\n",
              "      <td>4.286012</td>\n",
              "      <td>1728.689059</td>\n",
              "      <td>1.255649e+04</td>\n",
              "      <td>5.128851</td>\n",
              "      <td>4.262450</td>\n",
              "      <td>1.120198</td>\n",
              "      <td>4.248958</td>\n",
              "      <td>1.11630</td>\n",
              "    </tr>\n",
              "    <tr>\n",
              "      <th>min</th>\n",
              "      <td>0.000000</td>\n",
              "      <td>0.000000</td>\n",
              "      <td>0.000000</td>\n",
              "      <td>0.000000</td>\n",
              "      <td>0.000000e+00</td>\n",
              "      <td>0.000000</td>\n",
              "      <td>0.000000</td>\n",
              "      <td>0.000000</td>\n",
              "      <td>0.000000</td>\n",
              "      <td>0.00000</td>\n",
              "    </tr>\n",
              "    <tr>\n",
              "      <th>25%</th>\n",
              "      <td>0.029671</td>\n",
              "      <td>41.000000</td>\n",
              "      <td>0.000000</td>\n",
              "      <td>0.175365</td>\n",
              "      <td>3.400000e+03</td>\n",
              "      <td>5.000000</td>\n",
              "      <td>0.000000</td>\n",
              "      <td>0.000000</td>\n",
              "      <td>0.000000</td>\n",
              "      <td>0.00000</td>\n",
              "    </tr>\n",
              "    <tr>\n",
              "      <th>50%</th>\n",
              "      <td>0.153441</td>\n",
              "      <td>52.000000</td>\n",
              "      <td>0.000000</td>\n",
              "      <td>0.367499</td>\n",
              "      <td>5.397500e+03</td>\n",
              "      <td>8.000000</td>\n",
              "      <td>0.000000</td>\n",
              "      <td>1.000000</td>\n",
              "      <td>0.000000</td>\n",
              "      <td>0.00000</td>\n",
              "    </tr>\n",
              "    <tr>\n",
              "      <th>75%</th>\n",
              "      <td>0.559215</td>\n",
              "      <td>63.000000</td>\n",
              "      <td>0.000000</td>\n",
              "      <td>0.875533</td>\n",
              "      <td>8.220000e+03</td>\n",
              "      <td>11.000000</td>\n",
              "      <td>0.000000</td>\n",
              "      <td>2.000000</td>\n",
              "      <td>0.000000</td>\n",
              "      <td>1.00000</td>\n",
              "    </tr>\n",
              "    <tr>\n",
              "      <th>max</th>\n",
              "      <td>29110.000000</td>\n",
              "      <td>109.000000</td>\n",
              "      <td>98.000000</td>\n",
              "      <td>329664.000000</td>\n",
              "      <td>1.794060e+06</td>\n",
              "      <td>57.000000</td>\n",
              "      <td>98.000000</td>\n",
              "      <td>25.000000</td>\n",
              "      <td>98.000000</td>\n",
              "      <td>20.00000</td>\n",
              "    </tr>\n",
              "  </tbody>\n",
              "</table>\n",
              "</div>\n",
              "      <button class=\"colab-df-convert\" onclick=\"convertToInteractive('df-b62b78f0-8022-461d-bee9-f014e6ea009d')\"\n",
              "              title=\"Convert this dataframe to an interactive table.\"\n",
              "              style=\"display:none;\">\n",
              "        \n",
              "  <svg xmlns=\"http://www.w3.org/2000/svg\" height=\"24px\"viewBox=\"0 0 24 24\"\n",
              "       width=\"24px\">\n",
              "    <path d=\"M0 0h24v24H0V0z\" fill=\"none\"/>\n",
              "    <path d=\"M18.56 5.44l.94 2.06.94-2.06 2.06-.94-2.06-.94-.94-2.06-.94 2.06-2.06.94zm-11 1L8.5 8.5l.94-2.06 2.06-.94-2.06-.94L8.5 2.5l-.94 2.06-2.06.94zm10 10l.94 2.06.94-2.06 2.06-.94-2.06-.94-.94-2.06-.94 2.06-2.06.94z\"/><path d=\"M17.41 7.96l-1.37-1.37c-.4-.4-.92-.59-1.43-.59-.52 0-1.04.2-1.43.59L10.3 9.45l-7.72 7.72c-.78.78-.78 2.05 0 2.83L4 21.41c.39.39.9.59 1.41.59.51 0 1.02-.2 1.41-.59l7.78-7.78 2.81-2.81c.8-.78.8-2.07 0-2.86zM5.41 20L4 18.59l7.72-7.72 1.47 1.35L5.41 20z\"/>\n",
              "  </svg>\n",
              "      </button>\n",
              "      \n",
              "  <style>\n",
              "    .colab-df-container {\n",
              "      display:flex;\n",
              "      flex-wrap:wrap;\n",
              "      gap: 12px;\n",
              "    }\n",
              "\n",
              "    .colab-df-convert {\n",
              "      background-color: #E8F0FE;\n",
              "      border: none;\n",
              "      border-radius: 50%;\n",
              "      cursor: pointer;\n",
              "      display: none;\n",
              "      fill: #1967D2;\n",
              "      height: 32px;\n",
              "      padding: 0 0 0 0;\n",
              "      width: 32px;\n",
              "    }\n",
              "\n",
              "    .colab-df-convert:hover {\n",
              "      background-color: #E2EBFA;\n",
              "      box-shadow: 0px 1px 2px rgba(60, 64, 67, 0.3), 0px 1px 3px 1px rgba(60, 64, 67, 0.15);\n",
              "      fill: #174EA6;\n",
              "    }\n",
              "\n",
              "    [theme=dark] .colab-df-convert {\n",
              "      background-color: #3B4455;\n",
              "      fill: #D2E3FC;\n",
              "    }\n",
              "\n",
              "    [theme=dark] .colab-df-convert:hover {\n",
              "      background-color: #434B5C;\n",
              "      box-shadow: 0px 1px 3px 1px rgba(0, 0, 0, 0.15);\n",
              "      filter: drop-shadow(0px 1px 2px rgba(0, 0, 0, 0.3));\n",
              "      fill: #FFFFFF;\n",
              "    }\n",
              "  </style>\n",
              "\n",
              "      <script>\n",
              "        const buttonEl =\n",
              "          document.querySelector('#df-b62b78f0-8022-461d-bee9-f014e6ea009d button.colab-df-convert');\n",
              "        buttonEl.style.display =\n",
              "          google.colab.kernel.accessAllowed ? 'block' : 'none';\n",
              "\n",
              "        async function convertToInteractive(key) {\n",
              "          const element = document.querySelector('#df-b62b78f0-8022-461d-bee9-f014e6ea009d');\n",
              "          const dataTable =\n",
              "            await google.colab.kernel.invokeFunction('convertToInteractive',\n",
              "                                                     [key], {});\n",
              "          if (!dataTable) return;\n",
              "\n",
              "          const docLinkHtml = 'Like what you see? Visit the ' +\n",
              "            '<a target=\"_blank\" href=https://colab.research.google.com/notebooks/data_table.ipynb>data table notebook</a>'\n",
              "            + ' to learn more about interactive tables.';\n",
              "          element.innerHTML = '';\n",
              "          dataTable['output_type'] = 'display_data';\n",
              "          await google.colab.output.renderOutput(dataTable, element);\n",
              "          const docLink = document.createElement('div');\n",
              "          docLink.innerHTML = docLinkHtml;\n",
              "          element.appendChild(docLink);\n",
              "        }\n",
              "      </script>\n",
              "    </div>\n",
              "  </div>\n",
              "  "
            ]
          },
          "metadata": {},
          "execution_count": 116
        }
      ],
      "source": [
        "##########################\n",
        "# Your Code Below\n",
        "##########################\n",
        "\n",
        "X_train.describe()\n"
      ]
    },
    {
      "cell_type": "code",
      "source": [
        "target_columns = X_train.columns\n",
        "for i, col in enumerate(target_columns):\n",
        "    plt.figure(i)\n",
        "    sns.distplot(X_train[[col]])\n",
        "    plt.title(col)\n",
        "plt.show()"
      ],
      "metadata": {
        "colab": {
          "base_uri": "https://localhost:8080/",
          "height": 1000
        },
        "id": "bfQOTZZYOE4x",
        "outputId": "58c646e3-08dc-4f26-c4eb-d1f978086b61"
      },
      "execution_count": 117,
      "outputs": [
        {
          "output_type": "stream",
          "name": "stderr",
          "text": [
            "/usr/local/lib/python3.8/dist-packages/seaborn/distributions.py:2619: FutureWarning: `distplot` is a deprecated function and will be removed in a future version. Please adapt your code to use either `displot` (a figure-level function with similar flexibility) or `histplot` (an axes-level function for histograms).\n",
            "  warnings.warn(msg, FutureWarning)\n",
            "/usr/local/lib/python3.8/dist-packages/seaborn/distributions.py:2619: FutureWarning: `distplot` is a deprecated function and will be removed in a future version. Please adapt your code to use either `displot` (a figure-level function with similar flexibility) or `histplot` (an axes-level function for histograms).\n",
            "  warnings.warn(msg, FutureWarning)\n",
            "/usr/local/lib/python3.8/dist-packages/seaborn/distributions.py:2619: FutureWarning: `distplot` is a deprecated function and will be removed in a future version. Please adapt your code to use either `displot` (a figure-level function with similar flexibility) or `histplot` (an axes-level function for histograms).\n",
            "  warnings.warn(msg, FutureWarning)\n",
            "/usr/local/lib/python3.8/dist-packages/seaborn/distributions.py:2619: FutureWarning: `distplot` is a deprecated function and will be removed in a future version. Please adapt your code to use either `displot` (a figure-level function with similar flexibility) or `histplot` (an axes-level function for histograms).\n",
            "  warnings.warn(msg, FutureWarning)\n",
            "/usr/local/lib/python3.8/dist-packages/seaborn/distributions.py:2619: FutureWarning: `distplot` is a deprecated function and will be removed in a future version. Please adapt your code to use either `displot` (a figure-level function with similar flexibility) or `histplot` (an axes-level function for histograms).\n",
            "  warnings.warn(msg, FutureWarning)\n",
            "/usr/local/lib/python3.8/dist-packages/seaborn/distributions.py:2619: FutureWarning: `distplot` is a deprecated function and will be removed in a future version. Please adapt your code to use either `displot` (a figure-level function with similar flexibility) or `histplot` (an axes-level function for histograms).\n",
            "  warnings.warn(msg, FutureWarning)\n",
            "/usr/local/lib/python3.8/dist-packages/seaborn/distributions.py:2619: FutureWarning: `distplot` is a deprecated function and will be removed in a future version. Please adapt your code to use either `displot` (a figure-level function with similar flexibility) or `histplot` (an axes-level function for histograms).\n",
            "  warnings.warn(msg, FutureWarning)\n",
            "/usr/local/lib/python3.8/dist-packages/seaborn/distributions.py:2619: FutureWarning: `distplot` is a deprecated function and will be removed in a future version. Please adapt your code to use either `displot` (a figure-level function with similar flexibility) or `histplot` (an axes-level function for histograms).\n",
            "  warnings.warn(msg, FutureWarning)\n",
            "/usr/local/lib/python3.8/dist-packages/seaborn/distributions.py:2619: FutureWarning: `distplot` is a deprecated function and will be removed in a future version. Please adapt your code to use either `displot` (a figure-level function with similar flexibility) or `histplot` (an axes-level function for histograms).\n",
            "  warnings.warn(msg, FutureWarning)\n",
            "/usr/local/lib/python3.8/dist-packages/seaborn/distributions.py:2619: FutureWarning: `distplot` is a deprecated function and will be removed in a future version. Please adapt your code to use either `displot` (a figure-level function with similar flexibility) or `histplot` (an axes-level function for histograms).\n",
            "  warnings.warn(msg, FutureWarning)\n"
          ]
        },
        {
          "output_type": "display_data",
          "data": {
            "text/plain": [
              "<Figure size 432x288 with 1 Axes>"
            ],
            "image/png": "[encoded data removed]"
          },
          "metadata": {
            "needs_background": "light"
          }
        },
        {
          "output_type": "display_data",
          "data": {
            "text/plain": [
              "<Figure size 432x288 with 1 Axes>"
            ],
            "image/png": "[encoded data removed]"
          },
          "metadata": {
            "needs_background": "light"
          }
        },
        {
          "output_type": "display_data",
          "data": {
            "text/plain": [
              "<Figure size 432x288 with 1 Axes>"
            ],
            "image/png": "[encoded data removed]"
          },
          "metadata": {
            "needs_background": "light"
          }
        },
        {
          "output_type": "display_data",
          "data": {
            "text/plain": [
              "<Figure size 432x288 with 1 Axes>"
            ],
            "image/png": "[encoded data removed]"
          },
          "metadata": {
            "needs_background": "light"
          }
        },
        {
          "output_type": "display_data",
          "data": {
            "text/plain": [
              "<Figure size 432x288 with 1 Axes>"
            ],
            "image/png": "[encoded data removed]"
          },
          "metadata": {
            "needs_background": "light"
          }
        },
        {
          "output_type": "display_data",
          "data": {
            "text/plain": [
              "<Figure size 432x288 with 1 Axes>"
            ],
            "image/png": "[encoded data removed]"
          },
          "metadata": {
            "needs_background": "light"
          }
        },
        {
          "output_type": "display_data",
          "data": {
            "text/plain": [
              "<Figure size 432x288 with 1 Axes>"
            ],
            "image/png": "[encoded data removed]"
          },
          "metadata": {
            "needs_background": "light"
          }
        },
        {
          "output_type": "display_data",
          "data": {
            "text/plain": [
              "<Figure size 432x288 with 1 Axes>"
            ],
            "image/png": "[encoded data removed]"
          },
          "metadata": {
            "needs_background": "light"
          }
        },
        {
          "output_type": "display_data",
          "data": {
            "text/plain": [
              "<Figure size 432x288 with 1 Axes>"
            ],
            "image/png": "[encoded data removed]"
          },
          "metadata": {
            "needs_background": "light"
          }
        },
        {
          "output_type": "display_data",
          "data": {
            "text/plain": [
              "<Figure size 432x288 with 1 Axes>"
            ],
            "image/png": "[encoded data removed]"
          },
          "metadata": {
            "needs_background": "light"
          }
        }
      ]
    },
    {
      "cell_type": "code",
      "source": [
        "\n",
        "for i, col in enumerate(target_columns):\n",
        "  plt.figure(i)\n",
        "  plt.boxplot(X_train[[col]].values)\n",
        "  plt.title(col)\n",
        "plt.show()"
      ],
      "metadata": {
        "colab": {
          "base_uri": "https://localhost:8080/",
          "height": 1000
        },
        "id": "neMiIvhHOrxs",
        "outputId": "467e72dc-4448-460d-9d3b-ca8c9a7f6968"
      },
      "execution_count": 118,
      "outputs": [
        {
          "output_type": "display_data",
          "data": {
            "text/plain": [
              "<Figure size 432x288 with 1 Axes>"
            ],
            "image/png": "[encoded data removed]"
          },
          "metadata": {
            "needs_background": "light"
          }
        },
        {
          "output_type": "display_data",
          "data": {
            "text/plain": [
              "<Figure size 432x288 with 1 Axes>"
            ],
            "image/png": "[encoded data removed]"
          },
          "metadata": {
            "needs_background": "light"
          }
        },
        {
          "output_type": "display_data",
          "data": {
            "text/plain": [
              "<Figure size 432x288 with 1 Axes>"
            ],
            "image/png": "[encoded data removed]"
          },
          "metadata": {
            "needs_background": "light"
          }
        },
        {
          "output_type": "display_data",
          "data": {
            "text/plain": [
              "<Figure size 432x288 with 1 Axes>"
            ],
            "image/png": "[encoded data removed]"
          },
          "metadata": {
            "needs_background": "light"
          }
        },
        {
          "output_type": "display_data",
          "data": {
            "text/plain": [
              "<Figure size 432x288 with 1 Axes>"
            ],
            "image/png": "[encoded data removed]"
          },
          "metadata": {
            "needs_background": "light"
          }
        },
        {
          "output_type": "display_data",
          "data": {
            "text/plain": [
              "<Figure size 432x288 with 1 Axes>"
            ],
            "image/png": "[encoded data removed]"
          },
          "metadata": {
            "needs_background": "light"
          }
        },
        {
          "output_type": "display_data",
          "data": {
            "text/plain": [
              "<Figure size 432x288 with 1 Axes>"
            ],
            "image/png": "[encoded data removed]"
          },
          "metadata": {
            "needs_background": "light"
          }
        },
        {
          "output_type": "display_data",
          "data": {
            "text/plain": [
              "<Figure size 432x288 with 1 Axes>"
            ],
            "image/png": "[encoded data removed]"
          },
          "metadata": {
            "needs_background": "light"
          }
        },
        {
          "output_type": "display_data",
          "data": {
            "text/plain": [
              "<Figure size 432x288 with 1 Axes>"
            ],
            "image/png": "[encoded data removed]"
          },
          "metadata": {
            "needs_background": "light"
          }
        },
        {
          "output_type": "display_data",
          "data": {
            "text/plain": [
              "<Figure size 432x288 with 1 Axes>"
            ],
            "image/png": "[encoded data removed]"
          },
          "metadata": {
            "needs_background": "light"
          }
        }
      ]
    },
    {
      "cell_type": "markdown",
      "metadata": {
        "id": "atMUIHcsFNua"
      },
      "source": [
        "**Note**\n",
        "> Looks like some features have outliers. We can either deal with the outlier or choose an algorithm that is immune to outliers"
      ]
    },
    {
      "cell_type": "markdown",
      "metadata": {
        "id": "OjJLsv1dFNua"
      },
      "source": [
        "#### <font color='#FC7307'> $\\delta$ Deal with Categorical Variables\n",
        "    \n",
        "    \n",
        "**Instructions**\n",
        "\n",
        "- Create a categorical variable named `age_group` (Hint: pd.cut)\n",
        "- Add the `age_group` variable to the dataframe\n",
        "- Then explore the categorical feature `age_group` (Hint: bar plot, frequency count?)\n",
        "\n",
        "Distribution not exaclty center so we will cut these into quantiles"
      ]
    },
    {
      "cell_type": "code",
      "execution_count": 119,
      "metadata": {
        "id": "NtzTKrgCFNua"
      },
      "outputs": [],
      "source": [
        "##########################\n",
        "# Your Code Below\n",
        "##########################\n",
        "\n",
        "def create_group(df, col, bins, labels):\n",
        "  output = pd.cut(df[col], bins = bins, labels = labels).cat.codes\n",
        "  return output\n",
        "\n",
        "bins = pd.IntervalIndex.from_tuples([(-1, 20), (20, 30), (30, 40), (40, 50), (50, 60), (60, 70), (70, 80), (80,X_train.age.max())])\n",
        "X_train['age_group'] = create_group(X_train, 'age', bins, None)\n",
        "X_test['age_group'] = create_group(X_test, 'age', bins, None)\n",
        "\n",
        "\n"
      ]
    },
    {
      "cell_type": "markdown",
      "metadata": {
        "id": "mLKxAiGzFNua"
      },
      "source": [
        "#### <font color='#FC7307'> $\\delta$ Check missing values\n",
        "\n",
        "**Instructions**\n",
        "    \n",
        "- Find columns that have missing values"
      ]
    },
    {
      "cell_type": "code",
      "execution_count": 120,
      "metadata": {
        "id": "HE10WygaFNua",
        "colab": {
          "base_uri": "https://localhost:8080/"
        },
        "outputId": "16d6e6f5-fc44-4f37-b9c7-e83ebd699a6c"
      },
      "outputs": [
        {
          "output_type": "execute_result",
          "data": {
            "text/plain": [
              "['MonthlyIncome', 'NumberOfDependents']"
            ]
          },
          "metadata": {},
          "execution_count": 120
        }
      ],
      "source": [
        "##########################\n",
        "# Your Code Below\n",
        "##########################\n",
        "\n",
        "def find_missing_columns(df):\n",
        "  return df.columns[df.isnull().any()].tolist()\n",
        "\n",
        "find_missing_columns(X_train)\n",
        "\n"
      ]
    },
    {
      "cell_type": "code",
      "execution_count": 121,
      "metadata": {
        "id": "0vLw0UhhFNua",
        "colab": {
          "base_uri": "https://localhost:8080/",
          "height": 131
        },
        "outputId": "e69a6ffa-6057-4b10-eb75-3e66ceeba1a6"
      },
      "outputs": [
        {
          "output_type": "execute_result",
          "data": {
            "text/plain": [
              "Empty DataFrame\n",
              "Columns: [RevolvingUtilizationOfUnsecuredLines, age, NumberOfTime30-59DaysPastDueNotWorse, DebtRatio, MonthlyIncome, NumberOfOpenCreditLinesAndLoans, NumberOfTimes90DaysLate, NumberRealEstateLoansOrLines, NumberOfTime60-89DaysPastDueNotWorse, NumberOfDependents, age_group]\n",
              "Index: []"
            ],
            "text/html": [
              "\n",
              "  <div id=\"df-a8437b1e-e968-41a0-8408-334379e8257b\">\n",
              "    <div class=\"colab-df-container\">\n",
              "      <div>\n",
              "<style scoped>\n",
              "    .dataframe tbody tr th:only-of-type {\n",
              "        vertical-align: middle;\n",
              "    }\n",
              "\n",
              "    .dataframe tbody tr th {\n",
              "        vertical-align: top;\n",
              "    }\n",
              "\n",
              "    .dataframe thead th {\n",
              "        text-align: right;\n",
              "    }\n",
              "</style>\n",
              "<table border=\"1\" class=\"dataframe\">\n",
              "  <thead>\n",
              "    <tr style=\"text-align: right;\">\n",
              "      <th></th>\n",
              "      <th>RevolvingUtilizationOfUnsecuredLines</th>\n",
              "      <th>age</th>\n",
              "      <th>NumberOfTime30-59DaysPastDueNotWorse</th>\n",
              "      <th>DebtRatio</th>\n",
              "      <th>MonthlyIncome</th>\n",
              "      <th>NumberOfOpenCreditLinesAndLoans</th>\n",
              "      <th>NumberOfTimes90DaysLate</th>\n",
              "      <th>NumberRealEstateLoansOrLines</th>\n",
              "      <th>NumberOfTime60-89DaysPastDueNotWorse</th>\n",
              "      <th>NumberOfDependents</th>\n",
              "      <th>age_group</th>\n",
              "    </tr>\n",
              "  </thead>\n",
              "  <tbody>\n",
              "  </tbody>\n",
              "</table>\n",
              "</div>\n",
              "      <button class=\"colab-df-convert\" onclick=\"convertToInteractive('df-a8437b1e-e968-41a0-8408-334379e8257b')\"\n",
              "              title=\"Convert this dataframe to an interactive table.\"\n",
              "              style=\"display:none;\">\n",
              "        \n",
              "  <svg xmlns=\"http://www.w3.org/2000/svg\" height=\"24px\"viewBox=\"0 0 24 24\"\n",
              "       width=\"24px\">\n",
              "    <path d=\"M0 0h24v24H0V0z\" fill=\"none\"/>\n",
              "    <path d=\"M18.56 5.44l.94 2.06.94-2.06 2.06-.94-2.06-.94-.94-2.06-.94 2.06-2.06.94zm-11 1L8.5 8.5l.94-2.06 2.06-.94-2.06-.94L8.5 2.5l-.94 2.06-2.06.94zm10 10l.94 2.06.94-2.06 2.06-.94-2.06-.94-.94-2.06-.94 2.06-2.06.94z\"/><path d=\"M17.41 7.96l-1.37-1.37c-.4-.4-.92-.59-1.43-.59-.52 0-1.04.2-1.43.59L10.3 9.45l-7.72 7.72c-.78.78-.78 2.05 0 2.83L4 21.41c.39.39.9.59 1.41.59.51 0 1.02-.2 1.41-.59l7.78-7.78 2.81-2.81c.8-.78.8-2.07 0-2.86zM5.41 20L4 18.59l7.72-7.72 1.47 1.35L5.41 20z\"/>\n",
              "  </svg>\n",
              "      </button>\n",
              "      \n",
              "  <style>\n",
              "    .colab-df-container {\n",
              "      display:flex;\n",
              "      flex-wrap:wrap;\n",
              "      gap: 12px;\n",
              "    }\n",
              "\n",
              "    .colab-df-convert {\n",
              "      background-color: #E8F0FE;\n",
              "      border: none;\n",
              "      border-radius: 50%;\n",
              "      cursor: pointer;\n",
              "      display: none;\n",
              "      fill: #1967D2;\n",
              "      height: 32px;\n",
              "      padding: 0 0 0 0;\n",
              "      width: 32px;\n",
              "    }\n",
              "\n",
              "    .colab-df-convert:hover {\n",
              "      background-color: #E2EBFA;\n",
              "      box-shadow: 0px 1px 2px rgba(60, 64, 67, 0.3), 0px 1px 3px 1px rgba(60, 64, 67, 0.15);\n",
              "      fill: #174EA6;\n",
              "    }\n",
              "\n",
              "    [theme=dark] .colab-df-convert {\n",
              "      background-color: #3B4455;\n",
              "      fill: #D2E3FC;\n",
              "    }\n",
              "\n",
              "    [theme=dark] .colab-df-convert:hover {\n",
              "      background-color: #434B5C;\n",
              "      box-shadow: 0px 1px 3px 1px rgba(0, 0, 0, 0.15);\n",
              "      filter: drop-shadow(0px 1px 2px rgba(0, 0, 0, 0.3));\n",
              "      fill: #FFFFFF;\n",
              "    }\n",
              "  </style>\n",
              "\n",
              "      <script>\n",
              "        const buttonEl =\n",
              "          document.querySelector('#df-a8437b1e-e968-41a0-8408-334379e8257b button.colab-df-convert');\n",
              "        buttonEl.style.display =\n",
              "          google.colab.kernel.accessAllowed ? 'block' : 'none';\n",
              "\n",
              "        async function convertToInteractive(key) {\n",
              "          const element = document.querySelector('#df-a8437b1e-e968-41a0-8408-334379e8257b');\n",
              "          const dataTable =\n",
              "            await google.colab.kernel.invokeFunction('convertToInteractive',\n",
              "                                                     [key], {});\n",
              "          if (!dataTable) return;\n",
              "\n",
              "          const docLinkHtml = 'Like what you see? Visit the ' +\n",
              "            '<a target=\"_blank\" href=https://colab.research.google.com/notebooks/data_table.ipynb>data table notebook</a>'\n",
              "            + ' to learn more about interactive tables.';\n",
              "          element.innerHTML = '';\n",
              "          dataTable['output_type'] = 'display_data';\n",
              "          await google.colab.output.renderOutput(dataTable, element);\n",
              "          const docLink = document.createElement('div');\n",
              "          docLink.innerHTML = docLinkHtml;\n",
              "          element.appendChild(docLink);\n",
              "        }\n",
              "      </script>\n",
              "    </div>\n",
              "  </div>\n",
              "  "
            ]
          },
          "metadata": {},
          "execution_count": 121
        }
      ],
      "source": [
        "X_train[X_train.age_group.isna()]"
      ]
    },
    {
      "cell_type": "markdown",
      "metadata": {
        "id": "LTslHFZGFNua"
      },
      "source": [
        "### $\\Delta$ 5.3.3 - Bivariate Data Exploration <a name=\"env-variables\"></a><font size='3'>[Back to TOC](#toc)</font>\n"
      ]
    },
    {
      "cell_type": "markdown",
      "metadata": {
        "id": "xEjDjhhoFNua"
      },
      "source": [
        "#### <font color='#FC7307'> $\\delta$ Correlation Table\n",
        "    \n",
        "**Instruction**\n",
        "    \n",
        "- Can you create a correlation table and use dataframe style to apply background_gradient? \n",
        "    - Hint: df.corr()?"
      ]
    },
    {
      "cell_type": "code",
      "execution_count": 122,
      "metadata": {
        "id": "uRyOi1brFNub",
        "colab": {
          "base_uri": "https://localhost:8080/",
          "height": 495
        },
        "outputId": "2cdcde38-e451-4f29-907f-9b059f93c9f9"
      },
      "outputs": [
        {
          "output_type": "execute_result",
          "data": {
            "text/plain": [
              "<matplotlib.axes._subplots.AxesSubplot at 0x7fd0ff63cb80>"
            ]
          },
          "metadata": {},
          "execution_count": 122
        },
        {
          "output_type": "display_data",
          "data": {
            "text/plain": [
              "<Figure size 432x288 with 2 Axes>"
            ],
            "image/png": "[encoded data removed]"
          },
          "metadata": {
            "needs_background": "light"
          }
        }
      ],
      "source": [
        "##########################\n",
        "# Your Code Below\n",
        "##########################\n",
        "\n",
        "\n",
        "\n",
        "def correlation_heatmap(df):\n",
        "  corr = df.corr()\n",
        "  return sns.heatmap(corr, \n",
        "        xticklabels=corr.columns,\n",
        "        yticklabels=corr.columns)\n",
        "\n",
        "correlation_heatmap(X_train)\n"
      ]
    },
    {
      "cell_type": "markdown",
      "metadata": {
        "id": "M6NMHw-rFNub"
      },
      "source": [
        "---"
      ]
    },
    {
      "cell_type": "markdown",
      "metadata": {
        "id": "BG5HDtn6FNub"
      },
      "source": [
        "## 5.4 - Feature Preprocessing <a name=\"sklearn-feature\"></a><font size='3'>[Back to TOC](#toc)</font>\n"
      ]
    },
    {
      "cell_type": "markdown",
      "metadata": {
        "id": "6ciSRZwlFNub"
      },
      "source": [
        "### $\\Delta$ 5.4.1 - Outliers <a name=\"outlier\"></a><font size='3'>[Back to TOC](#toc)</font>\n"
      ]
    },
    {
      "cell_type": "markdown",
      "metadata": {
        "id": "LBYUjbLhFNub"
      },
      "source": [
        "- Outliers will negatively affect the performance of our model, sklearn carries some packages that removes outliers based on the IQR.\n",
        "- Let's remove the values for each column that are beyond the IQR range.\n",
        "- We can either drop outliers our we can use the RobustScaler from sklearn to handle outliers."
      ]
    },
    {
      "cell_type": "markdown",
      "metadata": {
        "id": "4M4IsG97FNub"
      },
      "source": [
        "#### <font color='#FC7307'> $\\delta$ Deal with outliers\n",
        "\n",
        "**Instruction**\n",
        "- Find one of the variables with outliers and either replace the outliers with some values or remove the outliers\n",
        "- You may also want to look into `from sklearn.preprocessing import RobustScaler`. It's ok to skip this step if time doesn't allow\n",
        "\n"
      ]
    },
    {
      "cell_type": "code",
      "execution_count": 123,
      "metadata": {
        "id": "Wp_kuZjsFNub"
      },
      "outputs": [],
      "source": [
        "##########################\n",
        "# Your Code Below\n",
        "##########################\n",
        "\n",
        "from sklearn.preprocessing import RobustScaler\n",
        "\n",
        "def outlier_processing(df):\n",
        "  transformer = RobustScaler().fit_transform(df)\n",
        "  output_df = pd.DataFrame(transformer)\n",
        "  output_df.columns = df.columns\n",
        "  return output_df\n",
        "\n",
        "X_train = outlier_processing(X_train)\n",
        "X_train.describe()\n",
        "X_test = outlier_processing(X_test)"
      ]
    },
    {
      "cell_type": "markdown",
      "source": [],
      "metadata": {
        "id": "KZZVrBSuhFJE"
      }
    },
    {
      "cell_type": "markdown",
      "metadata": {
        "id": "o84iAkgOFNub"
      },
      "source": [
        "### $\\Delta$ 5.4.2 - Missing Value Imputation <a name=\"missing\"></a><font size='3'>[Back to TOC](#toc)</font>\n"
      ]
    },
    {
      "cell_type": "markdown",
      "metadata": {
        "id": "_WUIj5vqFNuc"
      },
      "source": [
        "#### <font color='#FC7307'> $\\delta$ Missing Imputation for NumberOfDependents\n",
        "    \n",
        "**Instruction**\n",
        "    \n",
        "- Fill missing values with `0`\n",
        "- Apply the imputation to both train and test data\n",
        "    - hint: df.fillna()"
      ]
    },
    {
      "cell_type": "code",
      "execution_count": 124,
      "metadata": {
        "id": "aKQGyC7wFNuc"
      },
      "outputs": [],
      "source": [
        "##########################\n",
        "# Your Code Below\n",
        "##########################\n",
        "\n",
        "def missing_value_processing(df, col, value):\n",
        "  return df[col].fillna(value)\n",
        "\n",
        "X_train['NumberOfDependents'] = missing_value_processing(X_train, 'NumberOfDependents', 0)\n",
        "X_test['NumberOfDependents'] = missing_value_processing(X_test, 'NumberOfDependents', 0)\n",
        "\n",
        "\n",
        "\n",
        "\n"
      ]
    },
    {
      "cell_type": "markdown",
      "metadata": {
        "id": "g5My6FUWFNuc"
      },
      "source": [
        "#### <font color='#FC7307'> $\\delta$ Missing Imputation for MonthlyIncome"
      ]
    },
    {
      "cell_type": "markdown",
      "metadata": {
        "id": "4FdufYMVFNuc"
      },
      "source": [
        "Around 19.8% of people do not have MonthlyIncome (could be an issue since MonthlyIncome is generally believed as an important predictor). The median values by each group (i.e. default/non-default) is chosen to fill in the NAs. Be careful that in order to do it, you have to split your data into training and testing first. \n",
        "\n",
        "**Instruction**\n",
        "    \n",
        "- Fill missing values with median value\n",
        "- Apply the imputation to both train and test data\n",
        "    - hint: df.fillna()"
      ]
    },
    {
      "cell_type": "code",
      "execution_count": 125,
      "metadata": {
        "id": "ufCh659rFNuc"
      },
      "outputs": [],
      "source": [
        "##########################\n",
        "# Your Code Below\n",
        "##########################\n",
        "\n",
        "X_train['MonthlyIncome'] = missing_value_processing(X_train, 'MonthlyIncome', X_train['MonthlyIncome'].median())\n",
        "X_test['MonthlyIncome'] = missing_value_processing(X_test, 'MonthlyIncome', X_test['MonthlyIncome'].median())"
      ]
    },
    {
      "cell_type": "code",
      "source": [
        "X_train"
      ],
      "metadata": {
        "colab": {
          "base_uri": "https://localhost:8080/",
          "height": 505
        },
        "id": "n1fmk5LIkzI8",
        "outputId": "1ea11e8c-001d-4ba1-9ad7-91dc54c00488"
      },
      "execution_count": 126,
      "outputs": [
        {
          "output_type": "execute_result",
          "data": {
            "text/plain": [
              "        RevolvingUtilizationOfUnsecuredLines       age  \\\n",
              "0                                   0.770257 -0.545455   \n",
              "1                                  -0.157011  0.136364   \n",
              "2                                  -0.289760  0.818182   \n",
              "3                                   1.371851  0.363636   \n",
              "4                                   0.974381  0.090909   \n",
              "...                                      ...       ...   \n",
              "104995                             -0.045876  0.318182   \n",
              "104996                              0.421855 -1.000000   \n",
              "104997                              0.952010  0.681818   \n",
              "104998                             -0.289760 -0.363636   \n",
              "104999                              0.412715 -0.409091   \n",
              "\n",
              "        NumberOfTime30-59DaysPastDueNotWorse    DebtRatio  MonthlyIncome  \\\n",
              "0                                        0.0    -0.329995       2.158195   \n",
              "1                                        0.0     0.343757       0.228112   \n",
              "2                                        0.0  2580.282818       0.000000   \n",
              "3                                        0.0     0.121991       0.058610   \n",
              "4                                        0.0    -0.048670       2.770228   \n",
              "...                                      ...          ...            ...   \n",
              "104995                                   0.0    -0.044071       1.681017   \n",
              "104996                                   0.0     0.176067      -0.074170   \n",
              "104997                                   0.0    -0.217010       0.781846   \n",
              "104998                                   0.0    -0.435760      -0.388485   \n",
              "104999                                   0.0     0.153100      -0.525622   \n",
              "\n",
              "        NumberOfOpenCreditLinesAndLoans  NumberOfTimes90DaysLate  \\\n",
              "0                             -0.666667                      0.0   \n",
              "1                             -0.333333                      0.0   \n",
              "2                             -0.500000                      0.0   \n",
              "3                              1.500000                      0.0   \n",
              "4                              0.333333                      0.0   \n",
              "...                                 ...                      ...   \n",
              "104995                         1.500000                      0.0   \n",
              "104996                         1.166667                      0.0   \n",
              "104997                         0.333333                      0.0   \n",
              "104998                        -0.500000                      0.0   \n",
              "104999                        -0.500000                      0.0   \n",
              "\n",
              "        NumberRealEstateLoansOrLines  NumberOfTime60-89DaysPastDueNotWorse  \\\n",
              "0                                0.0                                   0.0   \n",
              "1                                0.0                                   0.0   \n",
              "2                                0.0                                   0.0   \n",
              "3                                0.5                                   0.0   \n",
              "4                                0.5                                   0.0   \n",
              "...                              ...                                   ...   \n",
              "104995                           0.5                                   0.0   \n",
              "104996                           0.5                                   0.0   \n",
              "104997                           0.0                                   0.0   \n",
              "104998                          -0.5                                   0.0   \n",
              "104999                          -0.5                                   0.0   \n",
              "\n",
              "        NumberOfDependents  age_group  \n",
              "0                      0.0       -1.0  \n",
              "1                      0.0        0.0  \n",
              "2                      0.0        0.5  \n",
              "3                      1.0        0.0  \n",
              "4                      0.0        0.0  \n",
              "...                    ...        ...  \n",
              "104995                 0.0        0.0  \n",
              "104996                 0.0       -1.5  \n",
              "104997                 0.0        0.5  \n",
              "104998                 1.0       -0.5  \n",
              "104999                 1.0       -0.5  \n",
              "\n",
              "[105000 rows x 11 columns]"
            ],
            "text/html": [
              "\n",
              "  <div id=\"df-c7550ada-bdc4-49a0-b1a3-9d1df3671ea8\">\n",
              "    <div class=\"colab-df-container\">\n",
              "      <div>\n",
              "<style scoped>\n",
              "    .dataframe tbody tr th:only-of-type {\n",
              "        vertical-align: middle;\n",
              "    }\n",
              "\n",
              "    .dataframe tbody tr th {\n",
              "        vertical-align: top;\n",
              "    }\n",
              "\n",
              "    .dataframe thead th {\n",
              "        text-align: right;\n",
              "    }\n",
              "</style>\n",
              "<table border=\"1\" class=\"dataframe\">\n",
              "  <thead>\n",
              "    <tr style=\"text-align: right;\">\n",
              "      <th></th>\n",
              "      <th>RevolvingUtilizationOfUnsecuredLines</th>\n",
              "      <th>age</th>\n",
              "      <th>NumberOfTime30-59DaysPastDueNotWorse</th>\n",
              "      <th>DebtRatio</th>\n",
              "      <th>MonthlyIncome</th>\n",
              "      <th>NumberOfOpenCreditLinesAndLoans</th>\n",
              "      <th>NumberOfTimes90DaysLate</th>\n",
              "      <th>NumberRealEstateLoansOrLines</th>\n",
              "      <th>NumberOfTime60-89DaysPastDueNotWorse</th>\n",
              "      <th>NumberOfDependents</th>\n",
              "      <th>age_group</th>\n",
              "    </tr>\n",
              "  </thead>\n",
              "  <tbody>\n",
              "    <tr>\n",
              "      <th>0</th>\n",
              "      <td>0.770257</td>\n",
              "      <td>-0.545455</td>\n",
              "      <td>0.0</td>\n",
              "      <td>-0.329995</td>\n",
              "      <td>2.158195</td>\n",
              "      <td>-0.666667</td>\n",
              "      <td>0.0</td>\n",
              "      <td>0.0</td>\n",
              "      <td>0.0</td>\n",
              "      <td>0.0</td>\n",
              "      <td>-1.0</td>\n",
              "    </tr>\n",
              "    <tr>\n",
              "      <th>1</th>\n",
              "      <td>-0.157011</td>\n",
              "      <td>0.136364</td>\n",
              "      <td>0.0</td>\n",
              "      <td>0.343757</td>\n",
              "      <td>0.228112</td>\n",
              "      <td>-0.333333</td>\n",
              "      <td>0.0</td>\n",
              "      <td>0.0</td>\n",
              "      <td>0.0</td>\n",
              "      <td>0.0</td>\n",
              "      <td>0.0</td>\n",
              "    </tr>\n",
              "    <tr>\n",
              "      <th>2</th>\n",
              "      <td>-0.289760</td>\n",
              "      <td>0.818182</td>\n",
              "      <td>0.0</td>\n",
              "      <td>2580.282818</td>\n",
              "      <td>0.000000</td>\n",
              "      <td>-0.500000</td>\n",
              "      <td>0.0</td>\n",
              "      <td>0.0</td>\n",
              "      <td>0.0</td>\n",
              "      <td>0.0</td>\n",
              "      <td>0.5</td>\n",
              "    </tr>\n",
              "    <tr>\n",
              "      <th>3</th>\n",
              "      <td>1.371851</td>\n",
              "      <td>0.363636</td>\n",
              "      <td>0.0</td>\n",
              "      <td>0.121991</td>\n",
              "      <td>0.058610</td>\n",
              "      <td>1.500000</td>\n",
              "      <td>0.0</td>\n",
              "      <td>0.5</td>\n",
              "      <td>0.0</td>\n",
              "      <td>1.0</td>\n",
              "      <td>0.0</td>\n",
              "    </tr>\n",
              "    <tr>\n",
              "      <th>4</th>\n",
              "      <td>0.974381</td>\n",
              "      <td>0.090909</td>\n",
              "      <td>0.0</td>\n",
              "      <td>-0.048670</td>\n",
              "      <td>2.770228</td>\n",
              "      <td>0.333333</td>\n",
              "      <td>0.0</td>\n",
              "      <td>0.5</td>\n",
              "      <td>0.0</td>\n",
              "      <td>0.0</td>\n",
              "      <td>0.0</td>\n",
              "    </tr>\n",
              "    <tr>\n",
              "      <th>...</th>\n",
              "      <td>...</td>\n",
              "      <td>...</td>\n",
              "      <td>...</td>\n",
              "      <td>...</td>\n",
              "      <td>...</td>\n",
              "      <td>...</td>\n",
              "      <td>...</td>\n",
              "      <td>...</td>\n",
              "      <td>...</td>\n",
              "      <td>...</td>\n",
              "      <td>...</td>\n",
              "    </tr>\n",
              "    <tr>\n",
              "      <th>104995</th>\n",
              "      <td>-0.045876</td>\n",
              "      <td>0.318182</td>\n",
              "      <td>0.0</td>\n",
              "      <td>-0.044071</td>\n",
              "      <td>1.681017</td>\n",
              "      <td>1.500000</td>\n",
              "      <td>0.0</td>\n",
              "      <td>0.5</td>\n",
              "      <td>0.0</td>\n",
              "      <td>0.0</td>\n",
              "      <td>0.0</td>\n",
              "    </tr>\n",
              "    <tr>\n",
              "      <th>104996</th>\n",
              "      <td>0.421855</td>\n",
              "      <td>-1.000000</td>\n",
              "      <td>0.0</td>\n",
              "      <td>0.176067</td>\n",
              "      <td>-0.074170</td>\n",
              "      <td>1.166667</td>\n",
              "      <td>0.0</td>\n",
              "      <td>0.5</td>\n",
              "      <td>0.0</td>\n",
              "      <td>0.0</td>\n",
              "      <td>-1.5</td>\n",
              "    </tr>\n",
              "    <tr>\n",
              "      <th>104997</th>\n",
              "      <td>0.952010</td>\n",
              "      <td>0.681818</td>\n",
              "      <td>0.0</td>\n",
              "      <td>-0.217010</td>\n",
              "      <td>0.781846</td>\n",
              "      <td>0.333333</td>\n",
              "      <td>0.0</td>\n",
              "      <td>0.0</td>\n",
              "      <td>0.0</td>\n",
              "      <td>0.0</td>\n",
              "      <td>0.5</td>\n",
              "    </tr>\n",
              "    <tr>\n",
              "      <th>104998</th>\n",
              "      <td>-0.289760</td>\n",
              "      <td>-0.363636</td>\n",
              "      <td>0.0</td>\n",
              "      <td>-0.435760</td>\n",
              "      <td>-0.388485</td>\n",
              "      <td>-0.500000</td>\n",
              "      <td>0.0</td>\n",
              "      <td>-0.5</td>\n",
              "      <td>0.0</td>\n",
              "      <td>1.0</td>\n",
              "      <td>-0.5</td>\n",
              "    </tr>\n",
              "    <tr>\n",
              "      <th>104999</th>\n",
              "      <td>0.412715</td>\n",
              "      <td>-0.409091</td>\n",
              "      <td>0.0</td>\n",
              "      <td>0.153100</td>\n",
              "      <td>-0.525622</td>\n",
              "      <td>-0.500000</td>\n",
              "      <td>0.0</td>\n",
              "      <td>-0.5</td>\n",
              "      <td>0.0</td>\n",
              "      <td>1.0</td>\n",
              "      <td>-0.5</td>\n",
              "    </tr>\n",
              "  </tbody>\n",
              "</table>\n",
              "<p>105000 rows × 11 columns</p>\n",
              "</div>\n",
              "      <button class=\"colab-df-convert\" onclick=\"convertToInteractive('df-c7550ada-bdc4-49a0-b1a3-9d1df3671ea8')\"\n",
              "              title=\"Convert this dataframe to an interactive table.\"\n",
              "              style=\"display:none;\">\n",
              "        \n",
              "  <svg xmlns=\"http://www.w3.org/2000/svg\" height=\"24px\"viewBox=\"0 0 24 24\"\n",
              "       width=\"24px\">\n",
              "    <path d=\"M0 0h24v24H0V0z\" fill=\"none\"/>\n",
              "    <path d=\"M18.56 5.44l.94 2.06.94-2.06 2.06-.94-2.06-.94-.94-2.06-.94 2.06-2.06.94zm-11 1L8.5 8.5l.94-2.06 2.06-.94-2.06-.94L8.5 2.5l-.94 2.06-2.06.94zm10 10l.94 2.06.94-2.06 2.06-.94-2.06-.94-.94-2.06-.94 2.06-2.06.94z\"/><path d=\"M17.41 7.96l-1.37-1.37c-.4-.4-.92-.59-1.43-.59-.52 0-1.04.2-1.43.59L10.3 9.45l-7.72 7.72c-.78.78-.78 2.05 0 2.83L4 21.41c.39.39.9.59 1.41.59.51 0 1.02-.2 1.41-.59l7.78-7.78 2.81-2.81c.8-.78.8-2.07 0-2.86zM5.41 20L4 18.59l7.72-7.72 1.47 1.35L5.41 20z\"/>\n",
              "  </svg>\n",
              "      </button>\n",
              "      \n",
              "  <style>\n",
              "    .colab-df-container {\n",
              "      display:flex;\n",
              "      flex-wrap:wrap;\n",
              "      gap: 12px;\n",
              "    }\n",
              "\n",
              "    .colab-df-convert {\n",
              "      background-color: #E8F0FE;\n",
              "      border: none;\n",
              "      border-radius: 50%;\n",
              "      cursor: pointer;\n",
              "      display: none;\n",
              "      fill: #1967D2;\n",
              "      height: 32px;\n",
              "      padding: 0 0 0 0;\n",
              "      width: 32px;\n",
              "    }\n",
              "\n",
              "    .colab-df-convert:hover {\n",
              "      background-color: #E2EBFA;\n",
              "      box-shadow: 0px 1px 2px rgba(60, 64, 67, 0.3), 0px 1px 3px 1px rgba(60, 64, 67, 0.15);\n",
              "      fill: #174EA6;\n",
              "    }\n",
              "\n",
              "    [theme=dark] .colab-df-convert {\n",
              "      background-color: #3B4455;\n",
              "      fill: #D2E3FC;\n",
              "    }\n",
              "\n",
              "    [theme=dark] .colab-df-convert:hover {\n",
              "      background-color: #434B5C;\n",
              "      box-shadow: 0px 1px 3px 1px rgba(0, 0, 0, 0.15);\n",
              "      filter: drop-shadow(0px 1px 2px rgba(0, 0, 0, 0.3));\n",
              "      fill: #FFFFFF;\n",
              "    }\n",
              "  </style>\n",
              "\n",
              "      <script>\n",
              "        const buttonEl =\n",
              "          document.querySelector('#df-c7550ada-bdc4-49a0-b1a3-9d1df3671ea8 button.colab-df-convert');\n",
              "        buttonEl.style.display =\n",
              "          google.colab.kernel.accessAllowed ? 'block' : 'none';\n",
              "\n",
              "        async function convertToInteractive(key) {\n",
              "          const element = document.querySelector('#df-c7550ada-bdc4-49a0-b1a3-9d1df3671ea8');\n",
              "          const dataTable =\n",
              "            await google.colab.kernel.invokeFunction('convertToInteractive',\n",
              "                                                     [key], {});\n",
              "          if (!dataTable) return;\n",
              "\n",
              "          const docLinkHtml = 'Like what you see? Visit the ' +\n",
              "            '<a target=\"_blank\" href=https://colab.research.google.com/notebooks/data_table.ipynb>data table notebook</a>'\n",
              "            + ' to learn more about interactive tables.';\n",
              "          element.innerHTML = '';\n",
              "          dataTable['output_type'] = 'display_data';\n",
              "          await google.colab.output.renderOutput(dataTable, element);\n",
              "          const docLink = document.createElement('div');\n",
              "          docLink.innerHTML = docLinkHtml;\n",
              "          element.appendChild(docLink);\n",
              "        }\n",
              "      </script>\n",
              "    </div>\n",
              "  </div>\n",
              "  "
            ]
          },
          "metadata": {},
          "execution_count": 126
        }
      ]
    },
    {
      "cell_type": "markdown",
      "metadata": {
        "id": "lTLC_AiGFNuc"
      },
      "source": [
        "## 5.5 - Feature Selection <a name=\"sklearn-feature-selection\"></a><font size='3'>[Back to TOC](#toc)</font>\n"
      ]
    },
    {
      "cell_type": "markdown",
      "metadata": {
        "id": "CMNb0xybFNuc"
      },
      "source": [
        "- NumberOfTime30-59DaysPastDueNotWorse, NumberOfTimes90DaysLate and NumberOfTime60-89DaysPastDueNotWorse have a high correlation with each other, let's remove some of these features so we don't have any multicollinearity.\n",
        "    - Let's remove some of these features.\n",
        "- After training your model, during the model interpretation stage (5.10), you may realize that some of the features have little to no importance / impact , you can repeat this and remove some of the features later\n",
        "\n",
        "\n",
        "#### <font color='#FC7307'> $\\delta$ Feature Selection\n",
        "    \n",
        "    \n",
        "**Instruction**\n",
        "    \n",
        "- Use the correlation table to identify highly correlated features\n",
        "- Drop the redundant features. \n",
        "    - hint: df.drop()\n",
        "    \n",
        "- If you have time later, look into a better way to remove redundant features. \n",
        "\n",
        "**Reference**\n",
        "- [https://scikit-learn.org/stable/modules/feature_selection.html](https://scikit-learn.org/stable/modules/feature_selection.html)"
      ]
    },
    {
      "cell_type": "code",
      "execution_count": 129,
      "metadata": {
        "id": "id_73hIlFNuc",
        "colab": {
          "base_uri": "https://localhost:8080/"
        },
        "outputId": "a8541678-4cd9-4b34-88a9-d1b365986bda"
      },
      "outputs": [
        {
          "output_type": "stream",
          "name": "stderr",
          "text": [
            "/usr/local/lib/python3.8/dist-packages/sklearn/base.py:443: UserWarning: X has feature names, but SelectFromModel was fitted without feature names\n",
            "  warnings.warn(\n"
          ]
        }
      ],
      "source": [
        "##########################\n",
        "# Your Code Below\n",
        "##########################\n",
        "from sklearn.ensemble import ExtraTreesClassifier\n",
        "from sklearn.datasets import load_iris\n",
        "from sklearn.feature_selection import SelectFromModel\n",
        "\n",
        "def feature_selection(X_train, X_test, y):\n",
        "  clf = ExtraTreesClassifier(n_estimators=50)\n",
        "  clf = clf.fit(X_train, y)\n",
        "  model = SelectFromModel(clf, prefit=True)\n",
        "  X_train_output = model.transform(X_train)\n",
        "  X_train_output = pd.DataFrame(X_train[X_train.columns[model.get_support()]])\n",
        "  X_test_output = pd.DataFrame(X_test[X_test.columns[model.get_support()]])\n",
        "\n",
        "  return X_train_output, X_test_output\n",
        "\n",
        "X_train_feature_selection, X_test_feature_selection = feature_selection(X_train,X_test,y_train)\n",
        "\n",
        "\n",
        "\n"
      ]
    },
    {
      "cell_type": "markdown",
      "metadata": {
        "id": "lMbJPvttFNuc"
      },
      "source": [
        "## 5.6 - Model Fitting <a name=\"sklearn-fit\"></a><font size='3'>[Back to TOC](#toc)</font>\n"
      ]
    },
    {
      "cell_type": "markdown",
      "metadata": {
        "id": "L5zlHtstFNuc"
      },
      "source": [
        "#### <font color='#FC7307'> $\\delta$ Modelling\n"
      ]
    },
    {
      "cell_type": "markdown",
      "metadata": {
        "id": "mN4xgVSMFNuc"
      },
      "source": [
        "**Instruction**\n",
        "\n",
        "1. Pick one of the algorithms learned today: `statsmodels.OLS` or skleanr's `RandomForestClassifier` 2. Instantiate the model instance\n",
        "3. Fit the model to the training set (X_train, y_train)\n",
        "4. Use the model to predict on the testing set (X_test)\n",
        "5. Use evaluation metric to see how model is performing (classification_report)"
      ]
    },
    {
      "cell_type": "code",
      "execution_count": 130,
      "metadata": {
        "id": "Xrzfbq4YFNud",
        "colab": {
          "base_uri": "https://localhost:8080/"
        },
        "outputId": "9ef433e1-f59b-48ac-c859-57255f435a13"
      },
      "outputs": [
        {
          "output_type": "stream",
          "name": "stdout",
          "text": [
            "Mean squared error: 0.06853333333333333\n",
            "Mean absolute error: 0.06853333333333333\n"
          ]
        }
      ],
      "source": [
        "##########################\n",
        "# Your Code Below\n",
        "##########################\n",
        "from sklearn import metrics\n",
        "clf = RandomForestClassifier(max_depth=2, random_state=0)\n",
        "clf.fit(X_train_feature_selection, y_train)\n",
        "y_pred = clf.predict(X_test_feature_selection)\n",
        "print(\"Mean squared error: {}\".format(metrics.mean_squared_error(y_test, y_pred)))\n",
        "print(\"Mean absolute error: {}\".format(metrics.mean_absolute_error(y_test, y_pred)))\n",
        "\n",
        "\n"
      ]
    },
    {
      "cell_type": "markdown",
      "metadata": {
        "id": "yvk4wZIGFNud"
      },
      "source": [
        "## 5.7 - Model Evaluation <a name=\"sklearn-eval\"></a><font size='3'>[Back to TOC](#toc)</font>\n"
      ]
    },
    {
      "cell_type": "markdown",
      "metadata": {
        "id": "hiruhiGAFNud"
      },
      "source": [
        "- The classification report will return a summary of useful metrics to help with model evaluation."
      ]
    },
    {
      "cell_type": "markdown",
      "metadata": {
        "id": "1B47nhcCFNud"
      },
      "source": [
        "#### <font color='#FC7307'> $\\delta$ Baseline Model Evaluation\n",
        "    \n",
        "**Instruction**\n",
        "    \n",
        "- Can you tell us the accuracy or precision of your model evaluated on the test data? \n",
        "    - Hint: Use sklearn's `classification_report` or `sklearn.metrics.accuracy_score`"
      ]
    },
    {
      "cell_type": "code",
      "execution_count": 131,
      "metadata": {
        "id": "pdF2k18mFNud",
        "colab": {
          "base_uri": "https://localhost:8080/"
        },
        "outputId": "16fde8d9-4e4e-41f5-fb86-24465d149ecb"
      },
      "outputs": [
        {
          "output_type": "stream",
          "name": "stdout",
          "text": [
            "              precision    recall  f1-score   support\n",
            "\n",
            "           0       0.93      1.00      0.96     41916\n",
            "           1       0.00      0.00      0.00      3084\n",
            "\n",
            "    accuracy                           0.93     45000\n",
            "   macro avg       0.47      0.50      0.48     45000\n",
            "weighted avg       0.87      0.93      0.90     45000\n",
            "\n"
          ]
        },
        {
          "output_type": "stream",
          "name": "stderr",
          "text": [
            "/usr/local/lib/python3.8/dist-packages/sklearn/metrics/_classification.py:1318: UndefinedMetricWarning: Precision and F-score are ill-defined and being set to 0.0 in labels with no predicted samples. Use `zero_division` parameter to control this behavior.\n",
            "  _warn_prf(average, modifier, msg_start, len(result))\n",
            "/usr/local/lib/python3.8/dist-packages/sklearn/metrics/_classification.py:1318: UndefinedMetricWarning: Precision and F-score are ill-defined and being set to 0.0 in labels with no predicted samples. Use `zero_division` parameter to control this behavior.\n",
            "  _warn_prf(average, modifier, msg_start, len(result))\n",
            "/usr/local/lib/python3.8/dist-packages/sklearn/metrics/_classification.py:1318: UndefinedMetricWarning: Precision and F-score are ill-defined and being set to 0.0 in labels with no predicted samples. Use `zero_division` parameter to control this behavior.\n",
            "  _warn_prf(average, modifier, msg_start, len(result))\n"
          ]
        }
      ],
      "source": [
        "##########################\n",
        "# Your Code Below\n",
        "##########################\n",
        "\n",
        "print(classification_report(y_test, y_pred))\n"
      ]
    },
    {
      "cell_type": "markdown",
      "metadata": {
        "id": "SuySMN85FNud"
      },
      "source": [
        "## 5.8 - Hyper-Parameter Tuninng & Cross Validation <a name=\"sklearn-eval\"></a><font size='3'>[Back to TOC](#toc)</font>\n"
      ]
    },
    {
      "cell_type": "code",
      "execution_count": 135,
      "metadata": {
        "id": "chuz9zfEFNud",
        "colab": {
          "base_uri": "https://localhost:8080/"
        },
        "outputId": "ec382d27-f500-43d5-f6be-2f335c65e679"
      },
      "outputs": [
        {
          "output_type": "stream",
          "name": "stdout",
          "text": [
            "Mean squared error: 0.06853333333333333\n",
            "Mean absolute error: 0.06853333333333333\n",
            "              precision    recall  f1-score   support\n",
            "\n",
            "           0       0.93      1.00      0.96     41916\n",
            "           1       0.00      0.00      0.00      3084\n",
            "\n",
            "    accuracy                           0.93     45000\n",
            "   macro avg       0.47      0.50      0.48     45000\n",
            "weighted avg       0.87      0.93      0.90     45000\n",
            "\n"
          ]
        },
        {
          "output_type": "stream",
          "name": "stderr",
          "text": [
            "/usr/local/lib/python3.8/dist-packages/sklearn/metrics/_classification.py:1318: UndefinedMetricWarning: Precision and F-score are ill-defined and being set to 0.0 in labels with no predicted samples. Use `zero_division` parameter to control this behavior.\n",
            "  _warn_prf(average, modifier, msg_start, len(result))\n",
            "/usr/local/lib/python3.8/dist-packages/sklearn/metrics/_classification.py:1318: UndefinedMetricWarning: Precision and F-score are ill-defined and being set to 0.0 in labels with no predicted samples. Use `zero_division` parameter to control this behavior.\n",
            "  _warn_prf(average, modifier, msg_start, len(result))\n",
            "/usr/local/lib/python3.8/dist-packages/sklearn/metrics/_classification.py:1318: UndefinedMetricWarning: Precision and F-score are ill-defined and being set to 0.0 in labels with no predicted samples. Use `zero_division` parameter to control this behavior.\n",
            "  _warn_prf(average, modifier, msg_start, len(result))\n"
          ]
        }
      ],
      "source": [
        "grid = {\n",
        "    'max_depth' : [2,3,4,5],\n",
        "    'criterion' :['gini', 'entropy'],\n",
        "    'random_state' : [69]\n",
        "}\n",
        "clf_GridSearchCV = GridSearchCV(estimator=RandomForestClassifier(), param_grid=grid, cv=5)\n",
        "clf_GridSearchCV.fit(X_train_feature_selection, y_train)\n",
        "y_pred_gscv = clf.predict(X_test_feature_selection)\n",
        "print(\"Mean squared error: {}\".format(metrics.mean_squared_error(y_test, y_pred_gscv)))\n",
        "print(\"Mean absolute error: {}\".format(metrics.mean_absolute_error(y_test, y_pred_gscv)))\n",
        "\n",
        "print(classification_report(y_test, y_pred_gscv))\n",
        "\n"
      ]
    },
    {
      "cell_type": "markdown",
      "metadata": {
        "id": "qIvjF0IEFNud"
      },
      "source": [
        "## 5.9 - Model Interpretation <a name=\"sklearn-eval\"></a><font size='3'>[Back to TOC](#toc)</font>\n"
      ]
    },
    {
      "cell_type": "code",
      "execution_count": null,
      "metadata": {
        "id": "2EQSQGSPFNud"
      },
      "outputs": [],
      "source": [
        "##########################\n",
        "# Your Code Below\n",
        "##########################\n",
        "\n"
      ]
    }
  ],
  "metadata": {
    "kernelspec": {
      "display_name": "Python 3.8.8 ('base')",
      "language": "python",
      "name": "python3"
    },
    "language_info": {
      "codemirror_mode": {
        "name": "ipython",
        "version": 3
      },
      "file_extension": ".py",
      "mimetype": "text/x-python",
      "name": "python",
      "nbconvert_exporter": "python",
      "pygments_lexer": "ipython3",
      "version": "3.8.8"
    },
    "vscode": {
      "interpreter": {
        "hash": "1e55477192aadac956e008dfb471ff7253c0b74067650898d5599561c36395a8"
      }
    },
    "colab": {
      "provenance": []
    }
  },
  "nbformat": 4,
  "nbformat_minor": 0
}